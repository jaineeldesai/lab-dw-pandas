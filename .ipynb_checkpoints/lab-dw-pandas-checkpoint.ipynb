{
 "cells": [
  {
   "cell_type": "markdown",
   "id": "25d7736c-ba17-4aff-b6bb-66eba20fbf4e",
   "metadata": {},
   "source": [
    "# Lab | Pandas"
   ]
  },
  {
   "cell_type": "markdown",
   "id": "34ae7c66-9458-477c-8a31-c6b07a36bf66",
   "metadata": {},
   "source": [
    "Objective: practice how to use the pandas library in Python for data analysis and manipulation."
   ]
  },
  {
   "cell_type": "markdown",
   "id": "d1973e9e-8be6-4039-b70e-d73ee0d94c99",
   "metadata": {},
   "source": [
    "In this lab, we will be working with the customer data from an insurance company, which can be found in the CSV file located at the following link: https://raw.githubusercontent.com/data-bootcamp-v4/data/main/file1.csv\n",
    "\n",
    "The data includes information such as customer ID, state, gender, education, income, and other variables that can be used to perform various analyses.\n",
    "\n",
    "Throughout the lab, we will be using the pandas library in Python to manipulate and analyze the data. Pandas is a powerful library that provides various data manipulation and analysis tools, including the ability to load and manipulate data from a variety of sources, including CSV files."
   ]
  },
  {
   "cell_type": "markdown",
   "id": "8045146f-f4f7-44d9-8cd9-130d6400c73a",
   "metadata": {},
   "source": [
    "### Data Description\n",
    "\n",
    "- Customer - Customer ID\n",
    "\n",
    "- ST - State where customers live\n",
    "\n",
    "- Gender - Gender of the customer\n",
    "\n",
    "- Education - Background education of customers \n",
    "\n",
    "- Customer Lifetime Value - Customer lifetime value(CLV) is the total revenue the client will derive from their entire relationship with a customer. In other words, is the predicted or calculated value of a customer over their entire duration as a policyholder with the insurance company. It is an estimation of the net profit that the insurance company expects to generate from a customer throughout their relationship with the company. Customer Lifetime Value takes into account factors such as the duration of the customer's policy, premium payments, claim history, renewal likelihood, and potential additional services or products the customer may purchase. It helps insurers assess the long-term profitability and value associated with retaining a particular customer.\n",
    "\n",
    "- Income - Customers income\n",
    "\n",
    "- Monthly Premium Auto - Amount of money the customer pays on a monthly basis as a premium for their auto insurance coverage. It represents the recurring cost that the insured person must pay to maintain their insurance policy and receive coverage for potential damages, accidents, or other covered events related to their vehicle.\n",
    "\n",
    "- Number of Open Complaints - Number of complaints the customer opened\n",
    "\n",
    "- Policy Type - There are three type of policies in car insurance (Corporate Auto, Personal Auto, and Special Auto)\n",
    "\n",
    "- Vehicle Class - Type of vehicle classes that customers have Two-Door Car, Four-Door Car SUV, Luxury SUV, Sports Car, and Luxury Car\n",
    "\n",
    "- Total Claim Amount - the sum of all claims made by the customer. It represents the total monetary value of all approved claims for incidents such as accidents, theft, vandalism, or other covered events.\n"
   ]
  },
  {
   "cell_type": "markdown",
   "id": "3a72419b-20fc-4905-817a-8c83abc59de6",
   "metadata": {},
   "source": [
    "External Resources: https://towardsdatascience.com/filtering-data-frames-in-pandas-b570b1f834b9"
   ]
  },
  {
   "cell_type": "markdown",
   "id": "8f8ece17-e919-4e23-96c0-c7c59778436a",
   "metadata": {},
   "source": [
    "## Challenge 1: Understanding the data\n",
    "\n",
    "In this challenge, you will use pandas to explore a given dataset. Your task is to gain a deep understanding of the data by analyzing its characteristics, dimensions, and statistical properties."
   ]
  },
  {
   "cell_type": "markdown",
   "id": "91437bd5-59a6-49c0-8150-ef0e6e6eb253",
   "metadata": {},
   "source": [
    "- Identify the dimensions of the dataset by determining the number of rows and columns it contains.\n",
    "- Determine the data types of each column and evaluate whether they are appropriate for the nature of the variable. You should also provide suggestions for fixing any incorrect data types.\n",
    "- Identify the number of unique values for each column and determine which columns appear to be categorical. You should also describe the unique values of each categorical column and the range of values for numerical columns, and give your insights.\n",
    "- Compute summary statistics such as mean, median, mode, standard deviation, and quartiles to understand the central tendency and distribution of the data for numerical columns. You should also provide your conclusions based on these summary statistics.\n",
    "- Compute summary statistics for categorical columns and providing your conclusions based on these statistics."
   ]
  },
  {
   "cell_type": "markdown",
   "id": "4f8d846d",
   "metadata": {},
   "source": [
    "1. Identify the dimensions of the dataset by determining the number of rows and columns it contains and cleaning the data"
   ]
  },
  {
   "cell_type": "code",
   "execution_count": 1,
   "id": "dd4e8cd8-a6f6-486c-a5c4-1745b0c035f4",
   "metadata": {},
   "outputs": [],
   "source": [
    "# Your code here\n",
    "\n",
    "import pandas as pd\n",
    "import numpy as np\n",
    "\n",
    "data=pd.read_csv('customer.csv')\n"
   ]
  },
  {
   "cell_type": "code",
   "execution_count": 2,
   "id": "69cdeb72",
   "metadata": {},
   "outputs": [],
   "source": [
    "import statistics as stats"
   ]
  },
  {
   "cell_type": "code",
   "execution_count": 3,
   "id": "f83293d9",
   "metadata": {},
   "outputs": [
    {
     "data": {
      "text/plain": [
       "Customer                     2937\n",
       "ST                           2937\n",
       "GENDER                       3054\n",
       "Education                    2937\n",
       "Customer Lifetime Value      2940\n",
       "Income                       2937\n",
       "Monthly Premium Auto         2937\n",
       "Number of Open Complaints    2937\n",
       "Policy Type                  2937\n",
       "Vehicle Class                2937\n",
       "Total Claim Amount           2937\n",
       "dtype: int64"
      ]
     },
     "execution_count": 3,
     "metadata": {},
     "output_type": "execute_result"
    }
   ],
   "source": [
    "data.isna().sum()"
   ]
  },
  {
   "cell_type": "code",
   "execution_count": 4,
   "id": "4ff0a765",
   "metadata": {},
   "outputs": [
    {
     "data": {
      "text/html": [
       "<div>\n",
       "<style scoped>\n",
       "    .dataframe tbody tr th:only-of-type {\n",
       "        vertical-align: middle;\n",
       "    }\n",
       "\n",
       "    .dataframe tbody tr th {\n",
       "        vertical-align: top;\n",
       "    }\n",
       "\n",
       "    .dataframe thead th {\n",
       "        text-align: right;\n",
       "    }\n",
       "</style>\n",
       "<table border=\"1\" class=\"dataframe\">\n",
       "  <thead>\n",
       "    <tr style=\"text-align: right;\">\n",
       "      <th></th>\n",
       "      <th>Customer</th>\n",
       "      <th>ST</th>\n",
       "      <th>GENDER</th>\n",
       "      <th>Education</th>\n",
       "      <th>Customer Lifetime Value</th>\n",
       "      <th>Income</th>\n",
       "      <th>Monthly Premium Auto</th>\n",
       "      <th>Number of Open Complaints</th>\n",
       "      <th>Policy Type</th>\n",
       "      <th>Vehicle Class</th>\n",
       "      <th>Total Claim Amount</th>\n",
       "    </tr>\n",
       "  </thead>\n",
       "  <tbody>\n",
       "    <tr>\n",
       "      <th>0</th>\n",
       "      <td>RB50392</td>\n",
       "      <td>Washington</td>\n",
       "      <td>NaN</td>\n",
       "      <td>Master</td>\n",
       "      <td>NaN</td>\n",
       "      <td>0.0</td>\n",
       "      <td>1000.0</td>\n",
       "      <td>1/0/00</td>\n",
       "      <td>Personal Auto</td>\n",
       "      <td>Four-Door Car</td>\n",
       "      <td>2.704934</td>\n",
       "    </tr>\n",
       "    <tr>\n",
       "      <th>1</th>\n",
       "      <td>QZ44356</td>\n",
       "      <td>Arizona</td>\n",
       "      <td>F</td>\n",
       "      <td>Bachelor</td>\n",
       "      <td>697953.59%</td>\n",
       "      <td>0.0</td>\n",
       "      <td>94.0</td>\n",
       "      <td>1/0/00</td>\n",
       "      <td>Personal Auto</td>\n",
       "      <td>Four-Door Car</td>\n",
       "      <td>1131.464935</td>\n",
       "    </tr>\n",
       "    <tr>\n",
       "      <th>2</th>\n",
       "      <td>AI49188</td>\n",
       "      <td>Nevada</td>\n",
       "      <td>F</td>\n",
       "      <td>Bachelor</td>\n",
       "      <td>1288743.17%</td>\n",
       "      <td>48767.0</td>\n",
       "      <td>108.0</td>\n",
       "      <td>1/0/00</td>\n",
       "      <td>Personal Auto</td>\n",
       "      <td>Two-Door Car</td>\n",
       "      <td>566.472247</td>\n",
       "    </tr>\n",
       "    <tr>\n",
       "      <th>3</th>\n",
       "      <td>WW63253</td>\n",
       "      <td>California</td>\n",
       "      <td>M</td>\n",
       "      <td>Bachelor</td>\n",
       "      <td>764586.18%</td>\n",
       "      <td>0.0</td>\n",
       "      <td>106.0</td>\n",
       "      <td>1/0/00</td>\n",
       "      <td>Corporate Auto</td>\n",
       "      <td>SUV</td>\n",
       "      <td>529.881344</td>\n",
       "    </tr>\n",
       "    <tr>\n",
       "      <th>4</th>\n",
       "      <td>GA49547</td>\n",
       "      <td>Washington</td>\n",
       "      <td>M</td>\n",
       "      <td>High School or Below</td>\n",
       "      <td>536307.65%</td>\n",
       "      <td>36357.0</td>\n",
       "      <td>68.0</td>\n",
       "      <td>1/0/00</td>\n",
       "      <td>Personal Auto</td>\n",
       "      <td>Four-Door Car</td>\n",
       "      <td>17.269323</td>\n",
       "    </tr>\n",
       "    <tr>\n",
       "      <th>...</th>\n",
       "      <td>...</td>\n",
       "      <td>...</td>\n",
       "      <td>...</td>\n",
       "      <td>...</td>\n",
       "      <td>...</td>\n",
       "      <td>...</td>\n",
       "      <td>...</td>\n",
       "      <td>...</td>\n",
       "      <td>...</td>\n",
       "      <td>...</td>\n",
       "      <td>...</td>\n",
       "    </tr>\n",
       "    <tr>\n",
       "      <th>1066</th>\n",
       "      <td>TM65736</td>\n",
       "      <td>Oregon</td>\n",
       "      <td>M</td>\n",
       "      <td>Master</td>\n",
       "      <td>305955.03%</td>\n",
       "      <td>38644.0</td>\n",
       "      <td>78.0</td>\n",
       "      <td>1/1/00</td>\n",
       "      <td>Personal Auto</td>\n",
       "      <td>Four-Door Car</td>\n",
       "      <td>361.455219</td>\n",
       "    </tr>\n",
       "    <tr>\n",
       "      <th>1067</th>\n",
       "      <td>VJ51327</td>\n",
       "      <td>Cali</td>\n",
       "      <td>F</td>\n",
       "      <td>High School or Below</td>\n",
       "      <td>2031499.76%</td>\n",
       "      <td>63209.0</td>\n",
       "      <td>102.0</td>\n",
       "      <td>1/2/00</td>\n",
       "      <td>Personal Auto</td>\n",
       "      <td>SUV</td>\n",
       "      <td>207.320041</td>\n",
       "    </tr>\n",
       "    <tr>\n",
       "      <th>1068</th>\n",
       "      <td>GS98873</td>\n",
       "      <td>Arizona</td>\n",
       "      <td>F</td>\n",
       "      <td>Bachelor</td>\n",
       "      <td>323912.47%</td>\n",
       "      <td>16061.0</td>\n",
       "      <td>88.0</td>\n",
       "      <td>1/0/00</td>\n",
       "      <td>Personal Auto</td>\n",
       "      <td>Four-Door Car</td>\n",
       "      <td>633.600000</td>\n",
       "    </tr>\n",
       "    <tr>\n",
       "      <th>1069</th>\n",
       "      <td>CW49887</td>\n",
       "      <td>California</td>\n",
       "      <td>F</td>\n",
       "      <td>Master</td>\n",
       "      <td>462680.11%</td>\n",
       "      <td>79487.0</td>\n",
       "      <td>114.0</td>\n",
       "      <td>1/0/00</td>\n",
       "      <td>Special Auto</td>\n",
       "      <td>SUV</td>\n",
       "      <td>547.200000</td>\n",
       "    </tr>\n",
       "    <tr>\n",
       "      <th>1070</th>\n",
       "      <td>MY31220</td>\n",
       "      <td>California</td>\n",
       "      <td>F</td>\n",
       "      <td>College</td>\n",
       "      <td>899704.02%</td>\n",
       "      <td>54230.0</td>\n",
       "      <td>112.0</td>\n",
       "      <td>1/0/00</td>\n",
       "      <td>Personal Auto</td>\n",
       "      <td>Two-Door Car</td>\n",
       "      <td>537.600000</td>\n",
       "    </tr>\n",
       "  </tbody>\n",
       "</table>\n",
       "<p>1071 rows × 11 columns</p>\n",
       "</div>"
      ],
      "text/plain": [
       "     Customer          ST GENDER             Education  \\\n",
       "0     RB50392  Washington    NaN                Master   \n",
       "1     QZ44356     Arizona      F              Bachelor   \n",
       "2     AI49188      Nevada      F              Bachelor   \n",
       "3     WW63253  California      M              Bachelor   \n",
       "4     GA49547  Washington      M  High School or Below   \n",
       "...       ...         ...    ...                   ...   \n",
       "1066  TM65736      Oregon      M                Master   \n",
       "1067  VJ51327        Cali      F  High School or Below   \n",
       "1068  GS98873     Arizona      F              Bachelor   \n",
       "1069  CW49887  California      F                Master   \n",
       "1070  MY31220  California      F               College   \n",
       "\n",
       "     Customer Lifetime Value   Income  Monthly Premium Auto  \\\n",
       "0                        NaN      0.0                1000.0   \n",
       "1                 697953.59%      0.0                  94.0   \n",
       "2                1288743.17%  48767.0                 108.0   \n",
       "3                 764586.18%      0.0                 106.0   \n",
       "4                 536307.65%  36357.0                  68.0   \n",
       "...                      ...      ...                   ...   \n",
       "1066              305955.03%  38644.0                  78.0   \n",
       "1067             2031499.76%  63209.0                 102.0   \n",
       "1068              323912.47%  16061.0                  88.0   \n",
       "1069              462680.11%  79487.0                 114.0   \n",
       "1070              899704.02%  54230.0                 112.0   \n",
       "\n",
       "     Number of Open Complaints     Policy Type  Vehicle Class  \\\n",
       "0                       1/0/00   Personal Auto  Four-Door Car   \n",
       "1                       1/0/00   Personal Auto  Four-Door Car   \n",
       "2                       1/0/00   Personal Auto   Two-Door Car   \n",
       "3                       1/0/00  Corporate Auto            SUV   \n",
       "4                       1/0/00   Personal Auto  Four-Door Car   \n",
       "...                        ...             ...            ...   \n",
       "1066                    1/1/00   Personal Auto  Four-Door Car   \n",
       "1067                    1/2/00   Personal Auto            SUV   \n",
       "1068                    1/0/00   Personal Auto  Four-Door Car   \n",
       "1069                    1/0/00    Special Auto            SUV   \n",
       "1070                    1/0/00   Personal Auto   Two-Door Car   \n",
       "\n",
       "      Total Claim Amount  \n",
       "0               2.704934  \n",
       "1            1131.464935  \n",
       "2             566.472247  \n",
       "3             529.881344  \n",
       "4              17.269323  \n",
       "...                  ...  \n",
       "1066          361.455219  \n",
       "1067          207.320041  \n",
       "1068          633.600000  \n",
       "1069          547.200000  \n",
       "1070          537.600000  \n",
       "\n",
       "[1071 rows x 11 columns]"
      ]
     },
     "execution_count": 4,
     "metadata": {},
     "output_type": "execute_result"
    }
   ],
   "source": [
    "#data=data.drop_duplicates()\n",
    "data = data[data['Customer'].isna()==False]\n",
    "data"
   ]
  },
  {
   "cell_type": "code",
   "execution_count": 5,
   "id": "6c2bbf3e",
   "metadata": {},
   "outputs": [
    {
     "data": {
      "text/html": [
       "<div>\n",
       "<style scoped>\n",
       "    .dataframe tbody tr th:only-of-type {\n",
       "        vertical-align: middle;\n",
       "    }\n",
       "\n",
       "    .dataframe tbody tr th {\n",
       "        vertical-align: top;\n",
       "    }\n",
       "\n",
       "    .dataframe thead th {\n",
       "        text-align: right;\n",
       "    }\n",
       "</style>\n",
       "<table border=\"1\" class=\"dataframe\">\n",
       "  <thead>\n",
       "    <tr style=\"text-align: right;\">\n",
       "      <th></th>\n",
       "      <th>customer</th>\n",
       "      <th>state</th>\n",
       "      <th>gender</th>\n",
       "      <th>education</th>\n",
       "      <th>customer lifetime value</th>\n",
       "      <th>income</th>\n",
       "      <th>monthly premium auto</th>\n",
       "      <th>number of open complaints</th>\n",
       "      <th>policy type</th>\n",
       "      <th>vehicle class</th>\n",
       "      <th>total claim amount</th>\n",
       "    </tr>\n",
       "  </thead>\n",
       "  <tbody>\n",
       "    <tr>\n",
       "      <th>0</th>\n",
       "      <td>RB50392</td>\n",
       "      <td>Washington</td>\n",
       "      <td>NaN</td>\n",
       "      <td>Master</td>\n",
       "      <td>NaN</td>\n",
       "      <td>0.0</td>\n",
       "      <td>1000.0</td>\n",
       "      <td>1/0/00</td>\n",
       "      <td>Personal Auto</td>\n",
       "      <td>Four-Door Car</td>\n",
       "      <td>2.704934</td>\n",
       "    </tr>\n",
       "    <tr>\n",
       "      <th>1</th>\n",
       "      <td>QZ44356</td>\n",
       "      <td>Arizona</td>\n",
       "      <td>F</td>\n",
       "      <td>Bachelor</td>\n",
       "      <td>697953.59%</td>\n",
       "      <td>0.0</td>\n",
       "      <td>94.0</td>\n",
       "      <td>1/0/00</td>\n",
       "      <td>Personal Auto</td>\n",
       "      <td>Four-Door Car</td>\n",
       "      <td>1131.464935</td>\n",
       "    </tr>\n",
       "    <tr>\n",
       "      <th>2</th>\n",
       "      <td>AI49188</td>\n",
       "      <td>Nevada</td>\n",
       "      <td>F</td>\n",
       "      <td>Bachelor</td>\n",
       "      <td>1288743.17%</td>\n",
       "      <td>48767.0</td>\n",
       "      <td>108.0</td>\n",
       "      <td>1/0/00</td>\n",
       "      <td>Personal Auto</td>\n",
       "      <td>Two-Door Car</td>\n",
       "      <td>566.472247</td>\n",
       "    </tr>\n",
       "    <tr>\n",
       "      <th>3</th>\n",
       "      <td>WW63253</td>\n",
       "      <td>California</td>\n",
       "      <td>M</td>\n",
       "      <td>Bachelor</td>\n",
       "      <td>764586.18%</td>\n",
       "      <td>0.0</td>\n",
       "      <td>106.0</td>\n",
       "      <td>1/0/00</td>\n",
       "      <td>Corporate Auto</td>\n",
       "      <td>SUV</td>\n",
       "      <td>529.881344</td>\n",
       "    </tr>\n",
       "    <tr>\n",
       "      <th>4</th>\n",
       "      <td>GA49547</td>\n",
       "      <td>Washington</td>\n",
       "      <td>M</td>\n",
       "      <td>High School or Below</td>\n",
       "      <td>536307.65%</td>\n",
       "      <td>36357.0</td>\n",
       "      <td>68.0</td>\n",
       "      <td>1/0/00</td>\n",
       "      <td>Personal Auto</td>\n",
       "      <td>Four-Door Car</td>\n",
       "      <td>17.269323</td>\n",
       "    </tr>\n",
       "    <tr>\n",
       "      <th>...</th>\n",
       "      <td>...</td>\n",
       "      <td>...</td>\n",
       "      <td>...</td>\n",
       "      <td>...</td>\n",
       "      <td>...</td>\n",
       "      <td>...</td>\n",
       "      <td>...</td>\n",
       "      <td>...</td>\n",
       "      <td>...</td>\n",
       "      <td>...</td>\n",
       "      <td>...</td>\n",
       "    </tr>\n",
       "    <tr>\n",
       "      <th>1066</th>\n",
       "      <td>TM65736</td>\n",
       "      <td>Oregon</td>\n",
       "      <td>M</td>\n",
       "      <td>Master</td>\n",
       "      <td>305955.03%</td>\n",
       "      <td>38644.0</td>\n",
       "      <td>78.0</td>\n",
       "      <td>1/1/00</td>\n",
       "      <td>Personal Auto</td>\n",
       "      <td>Four-Door Car</td>\n",
       "      <td>361.455219</td>\n",
       "    </tr>\n",
       "    <tr>\n",
       "      <th>1067</th>\n",
       "      <td>VJ51327</td>\n",
       "      <td>Cali</td>\n",
       "      <td>F</td>\n",
       "      <td>High School or Below</td>\n",
       "      <td>2031499.76%</td>\n",
       "      <td>63209.0</td>\n",
       "      <td>102.0</td>\n",
       "      <td>1/2/00</td>\n",
       "      <td>Personal Auto</td>\n",
       "      <td>SUV</td>\n",
       "      <td>207.320041</td>\n",
       "    </tr>\n",
       "    <tr>\n",
       "      <th>1068</th>\n",
       "      <td>GS98873</td>\n",
       "      <td>Arizona</td>\n",
       "      <td>F</td>\n",
       "      <td>Bachelor</td>\n",
       "      <td>323912.47%</td>\n",
       "      <td>16061.0</td>\n",
       "      <td>88.0</td>\n",
       "      <td>1/0/00</td>\n",
       "      <td>Personal Auto</td>\n",
       "      <td>Four-Door Car</td>\n",
       "      <td>633.600000</td>\n",
       "    </tr>\n",
       "    <tr>\n",
       "      <th>1069</th>\n",
       "      <td>CW49887</td>\n",
       "      <td>California</td>\n",
       "      <td>F</td>\n",
       "      <td>Master</td>\n",
       "      <td>462680.11%</td>\n",
       "      <td>79487.0</td>\n",
       "      <td>114.0</td>\n",
       "      <td>1/0/00</td>\n",
       "      <td>Special Auto</td>\n",
       "      <td>SUV</td>\n",
       "      <td>547.200000</td>\n",
       "    </tr>\n",
       "    <tr>\n",
       "      <th>1070</th>\n",
       "      <td>MY31220</td>\n",
       "      <td>California</td>\n",
       "      <td>F</td>\n",
       "      <td>College</td>\n",
       "      <td>899704.02%</td>\n",
       "      <td>54230.0</td>\n",
       "      <td>112.0</td>\n",
       "      <td>1/0/00</td>\n",
       "      <td>Personal Auto</td>\n",
       "      <td>Two-Door Car</td>\n",
       "      <td>537.600000</td>\n",
       "    </tr>\n",
       "  </tbody>\n",
       "</table>\n",
       "<p>1071 rows × 11 columns</p>\n",
       "</div>"
      ],
      "text/plain": [
       "     customer       state gender             education  \\\n",
       "0     RB50392  Washington    NaN                Master   \n",
       "1     QZ44356     Arizona      F              Bachelor   \n",
       "2     AI49188      Nevada      F              Bachelor   \n",
       "3     WW63253  California      M              Bachelor   \n",
       "4     GA49547  Washington      M  High School or Below   \n",
       "...       ...         ...    ...                   ...   \n",
       "1066  TM65736      Oregon      M                Master   \n",
       "1067  VJ51327        Cali      F  High School or Below   \n",
       "1068  GS98873     Arizona      F              Bachelor   \n",
       "1069  CW49887  California      F                Master   \n",
       "1070  MY31220  California      F               College   \n",
       "\n",
       "     customer lifetime value   income  monthly premium auto  \\\n",
       "0                        NaN      0.0                1000.0   \n",
       "1                 697953.59%      0.0                  94.0   \n",
       "2                1288743.17%  48767.0                 108.0   \n",
       "3                 764586.18%      0.0                 106.0   \n",
       "4                 536307.65%  36357.0                  68.0   \n",
       "...                      ...      ...                   ...   \n",
       "1066              305955.03%  38644.0                  78.0   \n",
       "1067             2031499.76%  63209.0                 102.0   \n",
       "1068              323912.47%  16061.0                  88.0   \n",
       "1069              462680.11%  79487.0                 114.0   \n",
       "1070              899704.02%  54230.0                 112.0   \n",
       "\n",
       "     number of open complaints     policy type  vehicle class  \\\n",
       "0                       1/0/00   Personal Auto  Four-Door Car   \n",
       "1                       1/0/00   Personal Auto  Four-Door Car   \n",
       "2                       1/0/00   Personal Auto   Two-Door Car   \n",
       "3                       1/0/00  Corporate Auto            SUV   \n",
       "4                       1/0/00   Personal Auto  Four-Door Car   \n",
       "...                        ...             ...            ...   \n",
       "1066                    1/1/00   Personal Auto  Four-Door Car   \n",
       "1067                    1/2/00   Personal Auto            SUV   \n",
       "1068                    1/0/00   Personal Auto  Four-Door Car   \n",
       "1069                    1/0/00    Special Auto            SUV   \n",
       "1070                    1/0/00   Personal Auto   Two-Door Car   \n",
       "\n",
       "      total claim amount  \n",
       "0               2.704934  \n",
       "1            1131.464935  \n",
       "2             566.472247  \n",
       "3             529.881344  \n",
       "4              17.269323  \n",
       "...                  ...  \n",
       "1066          361.455219  \n",
       "1067          207.320041  \n",
       "1068          633.600000  \n",
       "1069          547.200000  \n",
       "1070          537.600000  \n",
       "\n",
       "[1071 rows x 11 columns]"
      ]
     },
     "execution_count": 5,
     "metadata": {},
     "output_type": "execute_result"
    }
   ],
   "source": [
    "data.columns= [col.lower() for col in data.columns]\n",
    "data.rename(columns={'st':'state'},inplace=True)\n",
    "data"
   ]
  },
  {
   "cell_type": "markdown",
   "id": "75932cdf",
   "metadata": {},
   "source": [
    "2. Determine the data types of each column and evaluate whether they are appropriate for the nature of the variable. You should also provide suggestions for fixing any incorrect data types."
   ]
  },
  {
   "cell_type": "code",
   "execution_count": 6,
   "id": "5e9419bd",
   "metadata": {},
   "outputs": [
    {
     "data": {
      "text/plain": [
       "customer                      object\n",
       "state                         object\n",
       "gender                        object\n",
       "education                     object\n",
       "customer lifetime value       object\n",
       "income                       float64\n",
       "monthly premium auto         float64\n",
       "number of open complaints     object\n",
       "policy type                   object\n",
       "vehicle class                 object\n",
       "total claim amount           float64\n",
       "dtype: object"
      ]
     },
     "execution_count": 6,
     "metadata": {},
     "output_type": "execute_result"
    }
   ],
   "source": [
    "data.dtypes"
   ]
  },
  {
   "cell_type": "code",
   "execution_count": 7,
   "id": "e2e8df65",
   "metadata": {},
   "outputs": [
    {
     "data": {
      "text/plain": [
       "customer                       0\n",
       "state                          0\n",
       "gender                       117\n",
       "education                      0\n",
       "customer lifetime value        3\n",
       "income                         0\n",
       "monthly premium auto           0\n",
       "number of open complaints      0\n",
       "policy type                    0\n",
       "vehicle class                  0\n",
       "total claim amount             0\n",
       "dtype: int64"
      ]
     },
     "execution_count": 7,
     "metadata": {},
     "output_type": "execute_result"
    }
   ],
   "source": [
    "data.isna().sum()"
   ]
  },
  {
   "cell_type": "code",
   "execution_count": 8,
   "id": "3e10f0f5",
   "metadata": {},
   "outputs": [
    {
     "data": {
      "text/html": [
       "<div>\n",
       "<style scoped>\n",
       "    .dataframe tbody tr th:only-of-type {\n",
       "        vertical-align: middle;\n",
       "    }\n",
       "\n",
       "    .dataframe tbody tr th {\n",
       "        vertical-align: top;\n",
       "    }\n",
       "\n",
       "    .dataframe thead th {\n",
       "        text-align: right;\n",
       "    }\n",
       "</style>\n",
       "<table border=\"1\" class=\"dataframe\">\n",
       "  <thead>\n",
       "    <tr style=\"text-align: right;\">\n",
       "      <th></th>\n",
       "      <th>customer</th>\n",
       "      <th>state</th>\n",
       "      <th>gender</th>\n",
       "      <th>education</th>\n",
       "      <th>customer lifetime value</th>\n",
       "      <th>income</th>\n",
       "      <th>monthly premium auto</th>\n",
       "      <th>number of open complaints</th>\n",
       "      <th>policy type</th>\n",
       "      <th>vehicle class</th>\n",
       "      <th>total claim amount</th>\n",
       "    </tr>\n",
       "  </thead>\n",
       "  <tbody>\n",
       "    <tr>\n",
       "      <th>0</th>\n",
       "      <td>RB50392</td>\n",
       "      <td>Washington</td>\n",
       "      <td>NaN</td>\n",
       "      <td>Master</td>\n",
       "      <td>NaN</td>\n",
       "      <td>0.0</td>\n",
       "      <td>1000.0</td>\n",
       "      <td>1/0/00</td>\n",
       "      <td>Personal Auto</td>\n",
       "      <td>Four-Door Car</td>\n",
       "      <td>2.704934</td>\n",
       "    </tr>\n",
       "    <tr>\n",
       "      <th>1</th>\n",
       "      <td>QZ44356</td>\n",
       "      <td>Arizona</td>\n",
       "      <td>F</td>\n",
       "      <td>Bachelor</td>\n",
       "      <td>697953.59</td>\n",
       "      <td>0.0</td>\n",
       "      <td>94.0</td>\n",
       "      <td>1/0/00</td>\n",
       "      <td>Personal Auto</td>\n",
       "      <td>Four-Door Car</td>\n",
       "      <td>1131.464935</td>\n",
       "    </tr>\n",
       "    <tr>\n",
       "      <th>2</th>\n",
       "      <td>AI49188</td>\n",
       "      <td>Nevada</td>\n",
       "      <td>F</td>\n",
       "      <td>Bachelor</td>\n",
       "      <td>1288743.17</td>\n",
       "      <td>48767.0</td>\n",
       "      <td>108.0</td>\n",
       "      <td>1/0/00</td>\n",
       "      <td>Personal Auto</td>\n",
       "      <td>Two-Door Car</td>\n",
       "      <td>566.472247</td>\n",
       "    </tr>\n",
       "    <tr>\n",
       "      <th>3</th>\n",
       "      <td>WW63253</td>\n",
       "      <td>California</td>\n",
       "      <td>M</td>\n",
       "      <td>Bachelor</td>\n",
       "      <td>764586.18</td>\n",
       "      <td>0.0</td>\n",
       "      <td>106.0</td>\n",
       "      <td>1/0/00</td>\n",
       "      <td>Corporate Auto</td>\n",
       "      <td>SUV</td>\n",
       "      <td>529.881344</td>\n",
       "    </tr>\n",
       "    <tr>\n",
       "      <th>4</th>\n",
       "      <td>GA49547</td>\n",
       "      <td>Washington</td>\n",
       "      <td>M</td>\n",
       "      <td>High School or Below</td>\n",
       "      <td>536307.65</td>\n",
       "      <td>36357.0</td>\n",
       "      <td>68.0</td>\n",
       "      <td>1/0/00</td>\n",
       "      <td>Personal Auto</td>\n",
       "      <td>Four-Door Car</td>\n",
       "      <td>17.269323</td>\n",
       "    </tr>\n",
       "    <tr>\n",
       "      <th>...</th>\n",
       "      <td>...</td>\n",
       "      <td>...</td>\n",
       "      <td>...</td>\n",
       "      <td>...</td>\n",
       "      <td>...</td>\n",
       "      <td>...</td>\n",
       "      <td>...</td>\n",
       "      <td>...</td>\n",
       "      <td>...</td>\n",
       "      <td>...</td>\n",
       "      <td>...</td>\n",
       "    </tr>\n",
       "    <tr>\n",
       "      <th>1066</th>\n",
       "      <td>TM65736</td>\n",
       "      <td>Oregon</td>\n",
       "      <td>M</td>\n",
       "      <td>Master</td>\n",
       "      <td>305955.03</td>\n",
       "      <td>38644.0</td>\n",
       "      <td>78.0</td>\n",
       "      <td>1/1/00</td>\n",
       "      <td>Personal Auto</td>\n",
       "      <td>Four-Door Car</td>\n",
       "      <td>361.455219</td>\n",
       "    </tr>\n",
       "    <tr>\n",
       "      <th>1067</th>\n",
       "      <td>VJ51327</td>\n",
       "      <td>Cali</td>\n",
       "      <td>F</td>\n",
       "      <td>High School or Below</td>\n",
       "      <td>2031499.76</td>\n",
       "      <td>63209.0</td>\n",
       "      <td>102.0</td>\n",
       "      <td>1/2/00</td>\n",
       "      <td>Personal Auto</td>\n",
       "      <td>SUV</td>\n",
       "      <td>207.320041</td>\n",
       "    </tr>\n",
       "    <tr>\n",
       "      <th>1068</th>\n",
       "      <td>GS98873</td>\n",
       "      <td>Arizona</td>\n",
       "      <td>F</td>\n",
       "      <td>Bachelor</td>\n",
       "      <td>323912.47</td>\n",
       "      <td>16061.0</td>\n",
       "      <td>88.0</td>\n",
       "      <td>1/0/00</td>\n",
       "      <td>Personal Auto</td>\n",
       "      <td>Four-Door Car</td>\n",
       "      <td>633.600000</td>\n",
       "    </tr>\n",
       "    <tr>\n",
       "      <th>1069</th>\n",
       "      <td>CW49887</td>\n",
       "      <td>California</td>\n",
       "      <td>F</td>\n",
       "      <td>Master</td>\n",
       "      <td>462680.11</td>\n",
       "      <td>79487.0</td>\n",
       "      <td>114.0</td>\n",
       "      <td>1/0/00</td>\n",
       "      <td>Special Auto</td>\n",
       "      <td>SUV</td>\n",
       "      <td>547.200000</td>\n",
       "    </tr>\n",
       "    <tr>\n",
       "      <th>1070</th>\n",
       "      <td>MY31220</td>\n",
       "      <td>California</td>\n",
       "      <td>F</td>\n",
       "      <td>College</td>\n",
       "      <td>899704.02</td>\n",
       "      <td>54230.0</td>\n",
       "      <td>112.0</td>\n",
       "      <td>1/0/00</td>\n",
       "      <td>Personal Auto</td>\n",
       "      <td>Two-Door Car</td>\n",
       "      <td>537.600000</td>\n",
       "    </tr>\n",
       "  </tbody>\n",
       "</table>\n",
       "<p>1071 rows × 11 columns</p>\n",
       "</div>"
      ],
      "text/plain": [
       "     customer       state gender             education  \\\n",
       "0     RB50392  Washington    NaN                Master   \n",
       "1     QZ44356     Arizona      F              Bachelor   \n",
       "2     AI49188      Nevada      F              Bachelor   \n",
       "3     WW63253  California      M              Bachelor   \n",
       "4     GA49547  Washington      M  High School or Below   \n",
       "...       ...         ...    ...                   ...   \n",
       "1066  TM65736      Oregon      M                Master   \n",
       "1067  VJ51327        Cali      F  High School or Below   \n",
       "1068  GS98873     Arizona      F              Bachelor   \n",
       "1069  CW49887  California      F                Master   \n",
       "1070  MY31220  California      F               College   \n",
       "\n",
       "     customer lifetime value   income  monthly premium auto  \\\n",
       "0                        NaN      0.0                1000.0   \n",
       "1                  697953.59      0.0                  94.0   \n",
       "2                 1288743.17  48767.0                 108.0   \n",
       "3                  764586.18      0.0                 106.0   \n",
       "4                  536307.65  36357.0                  68.0   \n",
       "...                      ...      ...                   ...   \n",
       "1066               305955.03  38644.0                  78.0   \n",
       "1067              2031499.76  63209.0                 102.0   \n",
       "1068               323912.47  16061.0                  88.0   \n",
       "1069               462680.11  79487.0                 114.0   \n",
       "1070               899704.02  54230.0                 112.0   \n",
       "\n",
       "     number of open complaints     policy type  vehicle class  \\\n",
       "0                       1/0/00   Personal Auto  Four-Door Car   \n",
       "1                       1/0/00   Personal Auto  Four-Door Car   \n",
       "2                       1/0/00   Personal Auto   Two-Door Car   \n",
       "3                       1/0/00  Corporate Auto            SUV   \n",
       "4                       1/0/00   Personal Auto  Four-Door Car   \n",
       "...                        ...             ...            ...   \n",
       "1066                    1/1/00   Personal Auto  Four-Door Car   \n",
       "1067                    1/2/00   Personal Auto            SUV   \n",
       "1068                    1/0/00   Personal Auto  Four-Door Car   \n",
       "1069                    1/0/00    Special Auto            SUV   \n",
       "1070                    1/0/00   Personal Auto   Two-Door Car   \n",
       "\n",
       "      total claim amount  \n",
       "0               2.704934  \n",
       "1            1131.464935  \n",
       "2             566.472247  \n",
       "3             529.881344  \n",
       "4              17.269323  \n",
       "...                  ...  \n",
       "1066          361.455219  \n",
       "1067          207.320041  \n",
       "1068          633.600000  \n",
       "1069          547.200000  \n",
       "1070          537.600000  \n",
       "\n",
       "[1071 rows x 11 columns]"
      ]
     },
     "execution_count": 8,
     "metadata": {},
     "output_type": "execute_result"
    }
   ],
   "source": [
    "data['customer lifetime value']=data['customer lifetime value'].str.replace('%','')\n",
    "data"
   ]
  },
  {
   "cell_type": "code",
   "execution_count": 9,
   "id": "16b411cf",
   "metadata": {},
   "outputs": [],
   "source": [
    "data['customer lifetime value']=pd.to_numeric(data['customer lifetime value'], errors='coerce')"
   ]
  },
  {
   "cell_type": "code",
   "execution_count": 10,
   "id": "c7cc8644",
   "metadata": {},
   "outputs": [
    {
     "data": {
      "text/plain": [
       "customer                      object\n",
       "state                         object\n",
       "gender                        object\n",
       "education                     object\n",
       "customer lifetime value      float64\n",
       "income                       float64\n",
       "monthly premium auto         float64\n",
       "number of open complaints     object\n",
       "policy type                   object\n",
       "vehicle class                 object\n",
       "total claim amount           float64\n",
       "dtype: object"
      ]
     },
     "execution_count": 10,
     "metadata": {},
     "output_type": "execute_result"
    }
   ],
   "source": [
    "data.dtypes"
   ]
  },
  {
   "cell_type": "code",
   "execution_count": 11,
   "id": "c26f0156",
   "metadata": {},
   "outputs": [
    {
     "data": {
      "text/plain": [
       "array(['1/0/00', '1/2/00', '1/1/00', '1/3/00', '1/5/00', '1/4/00'],\n",
       "      dtype=object)"
      ]
     },
     "execution_count": 11,
     "metadata": {},
     "output_type": "execute_result"
    }
   ],
   "source": [
    "data['number of open complaints'].unique()"
   ]
  },
  {
   "cell_type": "code",
   "execution_count": 12,
   "id": "785bcf52",
   "metadata": {},
   "outputs": [
    {
     "data": {
      "text/plain": [
       "customer                       0\n",
       "state                          0\n",
       "gender                       117\n",
       "education                      0\n",
       "customer lifetime value        3\n",
       "income                         0\n",
       "monthly premium auto           0\n",
       "number of open complaints      0\n",
       "policy type                    0\n",
       "vehicle class                  0\n",
       "total claim amount             0\n",
       "dtype: int64"
      ]
     },
     "execution_count": 12,
     "metadata": {},
     "output_type": "execute_result"
    }
   ],
   "source": [
    "data.isna().sum()"
   ]
  },
  {
   "cell_type": "code",
   "execution_count": 13,
   "id": "90717ac1",
   "metadata": {},
   "outputs": [
    {
     "data": {
      "text/plain": [
       "array([nan, 'F', 'M', 'Femal', 'Male', 'female'], dtype=object)"
      ]
     },
     "execution_count": 13,
     "metadata": {},
     "output_type": "execute_result"
    }
   ],
   "source": [
    "data['gender'].unique()"
   ]
  },
  {
   "cell_type": "code",
   "execution_count": 14,
   "id": "646bcdb2",
   "metadata": {},
   "outputs": [
    {
     "data": {
      "text/plain": [
       "0       F\n",
       "1       F\n",
       "2       F\n",
       "3       M\n",
       "4       M\n",
       "       ..\n",
       "1066    M\n",
       "1067    F\n",
       "1068    F\n",
       "1069    F\n",
       "1070    F\n",
       "Name: gender, Length: 1071, dtype: object"
      ]
     },
     "execution_count": 14,
     "metadata": {},
     "output_type": "execute_result"
    }
   ],
   "source": [
    "data['gender']=data['gender'].fillna(method='bfill')\n",
    "data['gender']"
   ]
  },
  {
   "cell_type": "code",
   "execution_count": 15,
   "id": "68ef408b",
   "metadata": {},
   "outputs": [
    {
     "data": {
      "text/plain": [
       "array(['F', 'M', 'Femal', 'Male', 'female'], dtype=object)"
      ]
     },
     "execution_count": 15,
     "metadata": {},
     "output_type": "execute_result"
    }
   ],
   "source": [
    "data['gender'].unique()"
   ]
  },
  {
   "cell_type": "code",
   "execution_count": 16,
   "id": "f9835531",
   "metadata": {},
   "outputs": [
    {
     "data": {
      "text/plain": [
       "F         530\n",
       "M         457\n",
       "MALE       39\n",
       "FEMALE     28\n",
       "FEMAL      17\n",
       "Name: gender, dtype: int64"
      ]
     },
     "execution_count": 16,
     "metadata": {},
     "output_type": "execute_result"
    }
   ],
   "source": [
    "data['gender'] = list(map(str.upper, data['gender']))\n",
    "data['gender'].unique()\n",
    "data['gender'].value_counts(dropna=False)"
   ]
  },
  {
   "cell_type": "code",
   "execution_count": 17,
   "id": "837e2348",
   "metadata": {},
   "outputs": [],
   "source": [
    "def clean(x):\n",
    "    if x in ['M','MALE']:\n",
    "        return 'Male'\n",
    "    elif x.startswith('F'):\n",
    "        return 'Female'\n",
    "    else:\n",
    "        return 'Unknown'\n",
    "\n",
    "data['gender'] = list(map(clean, data['gender']))\n"
   ]
  },
  {
   "cell_type": "code",
   "execution_count": 18,
   "id": "ce1bd2f7",
   "metadata": {},
   "outputs": [
    {
     "data": {
      "text/plain": [
       "Female    575\n",
       "Male      496\n",
       "Name: gender, dtype: int64"
      ]
     },
     "execution_count": 18,
     "metadata": {},
     "output_type": "execute_result"
    }
   ],
   "source": [
    "data['gender'].value_counts()"
   ]
  },
  {
   "cell_type": "markdown",
   "id": "2b176508",
   "metadata": {},
   "source": [
    "3. Identify the number of unique values for each column and determine which columns appear to be categorical. You should also describe the unique values of each categorical column and the range of values for numerical columns, and give your insights."
   ]
  },
  {
   "cell_type": "code",
   "execution_count": 19,
   "id": "cf40b86f",
   "metadata": {},
   "outputs": [
    {
     "data": {
      "text/html": [
       "<div>\n",
       "<style scoped>\n",
       "    .dataframe tbody tr th:only-of-type {\n",
       "        vertical-align: middle;\n",
       "    }\n",
       "\n",
       "    .dataframe tbody tr th {\n",
       "        vertical-align: top;\n",
       "    }\n",
       "\n",
       "    .dataframe thead th {\n",
       "        text-align: right;\n",
       "    }\n",
       "</style>\n",
       "<table border=\"1\" class=\"dataframe\">\n",
       "  <thead>\n",
       "    <tr style=\"text-align: right;\">\n",
       "      <th></th>\n",
       "      <th>customer</th>\n",
       "      <th>state</th>\n",
       "      <th>gender</th>\n",
       "      <th>education</th>\n",
       "      <th>number of open complaints</th>\n",
       "      <th>policy type</th>\n",
       "      <th>vehicle class</th>\n",
       "    </tr>\n",
       "  </thead>\n",
       "  <tbody>\n",
       "    <tr>\n",
       "      <th>0</th>\n",
       "      <td>RB50392</td>\n",
       "      <td>Washington</td>\n",
       "      <td>Female</td>\n",
       "      <td>Master</td>\n",
       "      <td>1/0/00</td>\n",
       "      <td>Personal Auto</td>\n",
       "      <td>Four-Door Car</td>\n",
       "    </tr>\n",
       "    <tr>\n",
       "      <th>1</th>\n",
       "      <td>QZ44356</td>\n",
       "      <td>Arizona</td>\n",
       "      <td>Female</td>\n",
       "      <td>Bachelor</td>\n",
       "      <td>1/0/00</td>\n",
       "      <td>Personal Auto</td>\n",
       "      <td>Four-Door Car</td>\n",
       "    </tr>\n",
       "    <tr>\n",
       "      <th>2</th>\n",
       "      <td>AI49188</td>\n",
       "      <td>Nevada</td>\n",
       "      <td>Female</td>\n",
       "      <td>Bachelor</td>\n",
       "      <td>1/0/00</td>\n",
       "      <td>Personal Auto</td>\n",
       "      <td>Two-Door Car</td>\n",
       "    </tr>\n",
       "    <tr>\n",
       "      <th>3</th>\n",
       "      <td>WW63253</td>\n",
       "      <td>California</td>\n",
       "      <td>Male</td>\n",
       "      <td>Bachelor</td>\n",
       "      <td>1/0/00</td>\n",
       "      <td>Corporate Auto</td>\n",
       "      <td>SUV</td>\n",
       "    </tr>\n",
       "    <tr>\n",
       "      <th>4</th>\n",
       "      <td>GA49547</td>\n",
       "      <td>Washington</td>\n",
       "      <td>Male</td>\n",
       "      <td>High School or Below</td>\n",
       "      <td>1/0/00</td>\n",
       "      <td>Personal Auto</td>\n",
       "      <td>Four-Door Car</td>\n",
       "    </tr>\n",
       "    <tr>\n",
       "      <th>...</th>\n",
       "      <td>...</td>\n",
       "      <td>...</td>\n",
       "      <td>...</td>\n",
       "      <td>...</td>\n",
       "      <td>...</td>\n",
       "      <td>...</td>\n",
       "      <td>...</td>\n",
       "    </tr>\n",
       "    <tr>\n",
       "      <th>1066</th>\n",
       "      <td>TM65736</td>\n",
       "      <td>Oregon</td>\n",
       "      <td>Male</td>\n",
       "      <td>Master</td>\n",
       "      <td>1/1/00</td>\n",
       "      <td>Personal Auto</td>\n",
       "      <td>Four-Door Car</td>\n",
       "    </tr>\n",
       "    <tr>\n",
       "      <th>1067</th>\n",
       "      <td>VJ51327</td>\n",
       "      <td>Cali</td>\n",
       "      <td>Female</td>\n",
       "      <td>High School or Below</td>\n",
       "      <td>1/2/00</td>\n",
       "      <td>Personal Auto</td>\n",
       "      <td>SUV</td>\n",
       "    </tr>\n",
       "    <tr>\n",
       "      <th>1068</th>\n",
       "      <td>GS98873</td>\n",
       "      <td>Arizona</td>\n",
       "      <td>Female</td>\n",
       "      <td>Bachelor</td>\n",
       "      <td>1/0/00</td>\n",
       "      <td>Personal Auto</td>\n",
       "      <td>Four-Door Car</td>\n",
       "    </tr>\n",
       "    <tr>\n",
       "      <th>1069</th>\n",
       "      <td>CW49887</td>\n",
       "      <td>California</td>\n",
       "      <td>Female</td>\n",
       "      <td>Master</td>\n",
       "      <td>1/0/00</td>\n",
       "      <td>Special Auto</td>\n",
       "      <td>SUV</td>\n",
       "    </tr>\n",
       "    <tr>\n",
       "      <th>1070</th>\n",
       "      <td>MY31220</td>\n",
       "      <td>California</td>\n",
       "      <td>Female</td>\n",
       "      <td>College</td>\n",
       "      <td>1/0/00</td>\n",
       "      <td>Personal Auto</td>\n",
       "      <td>Two-Door Car</td>\n",
       "    </tr>\n",
       "  </tbody>\n",
       "</table>\n",
       "<p>1071 rows × 7 columns</p>\n",
       "</div>"
      ],
      "text/plain": [
       "     customer       state  gender             education  \\\n",
       "0     RB50392  Washington  Female                Master   \n",
       "1     QZ44356     Arizona  Female              Bachelor   \n",
       "2     AI49188      Nevada  Female              Bachelor   \n",
       "3     WW63253  California    Male              Bachelor   \n",
       "4     GA49547  Washington    Male  High School or Below   \n",
       "...       ...         ...     ...                   ...   \n",
       "1066  TM65736      Oregon    Male                Master   \n",
       "1067  VJ51327        Cali  Female  High School or Below   \n",
       "1068  GS98873     Arizona  Female              Bachelor   \n",
       "1069  CW49887  California  Female                Master   \n",
       "1070  MY31220  California  Female               College   \n",
       "\n",
       "     number of open complaints     policy type  vehicle class  \n",
       "0                       1/0/00   Personal Auto  Four-Door Car  \n",
       "1                       1/0/00   Personal Auto  Four-Door Car  \n",
       "2                       1/0/00   Personal Auto   Two-Door Car  \n",
       "3                       1/0/00  Corporate Auto            SUV  \n",
       "4                       1/0/00   Personal Auto  Four-Door Car  \n",
       "...                        ...             ...            ...  \n",
       "1066                    1/1/00   Personal Auto  Four-Door Car  \n",
       "1067                    1/2/00   Personal Auto            SUV  \n",
       "1068                    1/0/00   Personal Auto  Four-Door Car  \n",
       "1069                    1/0/00    Special Auto            SUV  \n",
       "1070                    1/0/00   Personal Auto   Two-Door Car  \n",
       "\n",
       "[1071 rows x 7 columns]"
      ]
     },
     "execution_count": 19,
     "metadata": {},
     "output_type": "execute_result"
    }
   ],
   "source": [
    "data.select_dtypes('object')"
   ]
  },
  {
   "cell_type": "code",
   "execution_count": 20,
   "id": "bf1bc912",
   "metadata": {},
   "outputs": [],
   "source": [
    "#number of open complaints should be numeric\n",
    "#the data is not clear to convert it to numeric"
   ]
  },
  {
   "cell_type": "code",
   "execution_count": 21,
   "id": "9d1c352c",
   "metadata": {},
   "outputs": [
    {
     "data": {
      "text/plain": [
       "array(['RB50392', 'QZ44356', 'AI49188', ..., 'GS98873', 'CW49887',\n",
       "       'MY31220'], dtype=object)"
      ]
     },
     "execution_count": 21,
     "metadata": {},
     "output_type": "execute_result"
    }
   ],
   "source": [
    "data['customer'].unique()"
   ]
  },
  {
   "cell_type": "code",
   "execution_count": 22,
   "id": "13ac4220",
   "metadata": {},
   "outputs": [
    {
     "data": {
      "text/plain": [
       "array(['Washington', 'Arizona', 'Nevada', 'California', 'Oregon', 'Cali',\n",
       "       'AZ', 'WA'], dtype=object)"
      ]
     },
     "execution_count": 22,
     "metadata": {},
     "output_type": "execute_result"
    }
   ],
   "source": [
    "data['state'].unique()"
   ]
  },
  {
   "cell_type": "code",
   "execution_count": 23,
   "id": "f528fb80",
   "metadata": {},
   "outputs": [],
   "source": [
    "def clean(x):\n",
    "    if x.startswith('W') :\n",
    "        return 'Washington'\n",
    "    elif x.startswith('A'):\n",
    "        return 'Arizona'\n",
    "    elif x.startswith('C'):\n",
    "        return 'California'\n",
    "    else:\n",
    "        return x\n",
    "\n",
    "data['state'] = list(map(clean, data['state']))"
   ]
  },
  {
   "cell_type": "code",
   "execution_count": 24,
   "id": "96a56f39",
   "metadata": {},
   "outputs": [
    {
     "data": {
      "text/plain": [
       "array(['Washington', 'Arizona', 'Nevada', 'California', 'Oregon'],\n",
       "      dtype=object)"
      ]
     },
     "execution_count": 24,
     "metadata": {},
     "output_type": "execute_result"
    }
   ],
   "source": [
    "data['state'].unique()"
   ]
  },
  {
   "cell_type": "code",
   "execution_count": 25,
   "id": "3ec17a7b",
   "metadata": {},
   "outputs": [
    {
     "data": {
      "text/plain": [
       "array(['Master', 'Bachelor', 'High School or Below', 'College',\n",
       "       'Bachelors', 'Doctor'], dtype=object)"
      ]
     },
     "execution_count": 25,
     "metadata": {},
     "output_type": "execute_result"
    }
   ],
   "source": [
    "data['education'].unique()"
   ]
  },
  {
   "cell_type": "code",
   "execution_count": 26,
   "id": "88735fc2",
   "metadata": {},
   "outputs": [
    {
     "data": {
      "text/plain": [
       "array(['Master', 'Bachelor', 'High School or Below', 'College', 'Doctor'],\n",
       "      dtype=object)"
      ]
     },
     "execution_count": 26,
     "metadata": {},
     "output_type": "execute_result"
    }
   ],
   "source": [
    "data['education']=data['education'].str.replace('Bachelors','Bachelor')\n",
    "data['education'].unique()"
   ]
  },
  {
   "cell_type": "code",
   "execution_count": 27,
   "id": "449bc1a7",
   "metadata": {},
   "outputs": [
    {
     "data": {
      "text/plain": [
       "array(['1/0/00', '1/2/00', '1/1/00', '1/3/00', '1/5/00', '1/4/00'],\n",
       "      dtype=object)"
      ]
     },
     "execution_count": 27,
     "metadata": {},
     "output_type": "execute_result"
    }
   ],
   "source": [
    "data['number of open complaints'].unique()"
   ]
  },
  {
   "cell_type": "code",
   "execution_count": 28,
   "id": "464ab78c",
   "metadata": {},
   "outputs": [
    {
     "data": {
      "text/plain": [
       "array(['Personal Auto', 'Corporate Auto', 'Special Auto'], dtype=object)"
      ]
     },
     "execution_count": 28,
     "metadata": {},
     "output_type": "execute_result"
    }
   ],
   "source": [
    "data['policy type'].unique()"
   ]
  },
  {
   "cell_type": "code",
   "execution_count": 29,
   "id": "0660266e",
   "metadata": {},
   "outputs": [
    {
     "data": {
      "text/plain": [
       "array(['Four-Door Car', 'Two-Door Car', 'SUV', 'Luxury SUV', 'Sports Car',\n",
       "       'Luxury Car'], dtype=object)"
      ]
     },
     "execution_count": 29,
     "metadata": {},
     "output_type": "execute_result"
    }
   ],
   "source": [
    "data['vehicle class'].unique()"
   ]
  },
  {
   "cell_type": "code",
   "execution_count": 30,
   "id": "5378faa9",
   "metadata": {},
   "outputs": [
    {
     "data": {
      "text/html": [
       "<div>\n",
       "<style scoped>\n",
       "    .dataframe tbody tr th:only-of-type {\n",
       "        vertical-align: middle;\n",
       "    }\n",
       "\n",
       "    .dataframe tbody tr th {\n",
       "        vertical-align: top;\n",
       "    }\n",
       "\n",
       "    .dataframe thead th {\n",
       "        text-align: right;\n",
       "    }\n",
       "</style>\n",
       "<table border=\"1\" class=\"dataframe\">\n",
       "  <thead>\n",
       "    <tr style=\"text-align: right;\">\n",
       "      <th></th>\n",
       "      <th>customer lifetime value</th>\n",
       "      <th>income</th>\n",
       "      <th>monthly premium auto</th>\n",
       "      <th>total claim amount</th>\n",
       "    </tr>\n",
       "  </thead>\n",
       "  <tbody>\n",
       "    <tr>\n",
       "      <th>0</th>\n",
       "      <td>NaN</td>\n",
       "      <td>0.0</td>\n",
       "      <td>1000.0</td>\n",
       "      <td>2.704934</td>\n",
       "    </tr>\n",
       "    <tr>\n",
       "      <th>1</th>\n",
       "      <td>697953.59</td>\n",
       "      <td>0.0</td>\n",
       "      <td>94.0</td>\n",
       "      <td>1131.464935</td>\n",
       "    </tr>\n",
       "    <tr>\n",
       "      <th>2</th>\n",
       "      <td>1288743.17</td>\n",
       "      <td>48767.0</td>\n",
       "      <td>108.0</td>\n",
       "      <td>566.472247</td>\n",
       "    </tr>\n",
       "    <tr>\n",
       "      <th>3</th>\n",
       "      <td>764586.18</td>\n",
       "      <td>0.0</td>\n",
       "      <td>106.0</td>\n",
       "      <td>529.881344</td>\n",
       "    </tr>\n",
       "    <tr>\n",
       "      <th>4</th>\n",
       "      <td>536307.65</td>\n",
       "      <td>36357.0</td>\n",
       "      <td>68.0</td>\n",
       "      <td>17.269323</td>\n",
       "    </tr>\n",
       "    <tr>\n",
       "      <th>...</th>\n",
       "      <td>...</td>\n",
       "      <td>...</td>\n",
       "      <td>...</td>\n",
       "      <td>...</td>\n",
       "    </tr>\n",
       "    <tr>\n",
       "      <th>1066</th>\n",
       "      <td>305955.03</td>\n",
       "      <td>38644.0</td>\n",
       "      <td>78.0</td>\n",
       "      <td>361.455219</td>\n",
       "    </tr>\n",
       "    <tr>\n",
       "      <th>1067</th>\n",
       "      <td>2031499.76</td>\n",
       "      <td>63209.0</td>\n",
       "      <td>102.0</td>\n",
       "      <td>207.320041</td>\n",
       "    </tr>\n",
       "    <tr>\n",
       "      <th>1068</th>\n",
       "      <td>323912.47</td>\n",
       "      <td>16061.0</td>\n",
       "      <td>88.0</td>\n",
       "      <td>633.600000</td>\n",
       "    </tr>\n",
       "    <tr>\n",
       "      <th>1069</th>\n",
       "      <td>462680.11</td>\n",
       "      <td>79487.0</td>\n",
       "      <td>114.0</td>\n",
       "      <td>547.200000</td>\n",
       "    </tr>\n",
       "    <tr>\n",
       "      <th>1070</th>\n",
       "      <td>899704.02</td>\n",
       "      <td>54230.0</td>\n",
       "      <td>112.0</td>\n",
       "      <td>537.600000</td>\n",
       "    </tr>\n",
       "  </tbody>\n",
       "</table>\n",
       "<p>1071 rows × 4 columns</p>\n",
       "</div>"
      ],
      "text/plain": [
       "      customer lifetime value   income  monthly premium auto  \\\n",
       "0                         NaN      0.0                1000.0   \n",
       "1                   697953.59      0.0                  94.0   \n",
       "2                  1288743.17  48767.0                 108.0   \n",
       "3                   764586.18      0.0                 106.0   \n",
       "4                   536307.65  36357.0                  68.0   \n",
       "...                       ...      ...                   ...   \n",
       "1066                305955.03  38644.0                  78.0   \n",
       "1067               2031499.76  63209.0                 102.0   \n",
       "1068                323912.47  16061.0                  88.0   \n",
       "1069                462680.11  79487.0                 114.0   \n",
       "1070                899704.02  54230.0                 112.0   \n",
       "\n",
       "      total claim amount  \n",
       "0               2.704934  \n",
       "1            1131.464935  \n",
       "2             566.472247  \n",
       "3             529.881344  \n",
       "4              17.269323  \n",
       "...                  ...  \n",
       "1066          361.455219  \n",
       "1067          207.320041  \n",
       "1068          633.600000  \n",
       "1069          547.200000  \n",
       "1070          537.600000  \n",
       "\n",
       "[1071 rows x 4 columns]"
      ]
     },
     "execution_count": 30,
     "metadata": {},
     "output_type": "execute_result"
    }
   ],
   "source": [
    "data._get_numeric_data()"
   ]
  },
  {
   "cell_type": "code",
   "execution_count": 31,
   "id": "2b14887a",
   "metadata": {},
   "outputs": [
    {
     "data": {
      "text/plain": [
       "array([       nan,  697953.59, 1288743.17, ..., 2031499.76,  323912.47,\n",
       "        899704.02])"
      ]
     },
     "execution_count": 31,
     "metadata": {},
     "output_type": "execute_result"
    }
   ],
   "source": [
    "data['customer lifetime value'].unique()"
   ]
  },
  {
   "cell_type": "code",
   "execution_count": 32,
   "id": "62cafa9a",
   "metadata": {},
   "outputs": [
    {
     "data": {
      "text/plain": [
       "3"
      ]
     },
     "execution_count": 32,
     "metadata": {},
     "output_type": "execute_result"
    }
   ],
   "source": [
    "data['customer lifetime value'].isna().sum()"
   ]
  },
  {
   "cell_type": "code",
   "execution_count": 33,
   "id": "67bfc5a2",
   "metadata": {},
   "outputs": [
    {
     "data": {
      "text/plain": [
       "793690.2593445693"
      ]
     },
     "execution_count": 33,
     "metadata": {},
     "output_type": "execute_result"
    }
   ],
   "source": [
    "mean_cust_life=data['customer lifetime value'].mean()\n",
    "mean_cust_life"
   ]
  },
  {
   "cell_type": "code",
   "execution_count": 34,
   "id": "57fabb00",
   "metadata": {},
   "outputs": [
    {
     "data": {
      "text/plain": [
       "array([ 793690.25934457,  697953.59      , 1288743.17      , ...,\n",
       "       2031499.76      ,  323912.47      ,  899704.02      ])"
      ]
     },
     "execution_count": 34,
     "metadata": {},
     "output_type": "execute_result"
    }
   ],
   "source": [
    "data['customer lifetime value']=data['customer lifetime value'].fillna(mean_cust_life)\n",
    "data['customer lifetime value'].unique()"
   ]
  },
  {
   "cell_type": "code",
   "execution_count": 35,
   "id": "ebbd9cbb",
   "metadata": {},
   "outputs": [
    {
     "data": {
      "text/plain": [
       "5616220.279999999"
      ]
     },
     "execution_count": 35,
     "metadata": {},
     "output_type": "execute_result"
    }
   ],
   "source": [
    "range_cust_life_val=data['customer lifetime value'].max()-data['customer lifetime value'].min()\n",
    "range_cust_life_val"
   ]
  },
  {
   "cell_type": "code",
   "execution_count": 36,
   "id": "4389d221",
   "metadata": {},
   "outputs": [
    {
     "data": {
      "text/plain": [
       "array([    0., 48767., 36357., 62902., 55350., 14072., 28812., 77026.,\n",
       "       99845., 83689., 24599., 25049., 28855., 51148., 66140., 57749.,\n",
       "       61040., 17870., 97541., 29723., 86584., 75690., 23158., 65999.,\n",
       "       37260., 68987., 42305., 65706., 53243., 50071., 60021., 43244.,\n",
       "       46896., 10105., 23218., 24804., 33190., 36014., 67163., 16701.,\n",
       "       46623., 64749., 16969., 11621., 17622., 11489., 66525., 33663.,\n",
       "       22547., 61486., 29879., 93011., 65186., 26840., 75644., 38984.,\n",
       "       71811., 20961., 41275., 61321., 51066., 34378., 43072., 25222.,\n",
       "       77552., 23091., 48269., 32720., 20396., 21513., 80744., 52822.,\n",
       "       69738., 17780., 18107., 57740., 32627., 65795., 60475., 41837.,\n",
       "       32303., 40531., 79898., 56398., 71600., 27804., 45506., 99428.,\n",
       "       20993., 37839., 92711., 74665., 61108., 46833., 88768., 28262.,\n",
       "       33555., 42780., 58850., 21880., 25251., 25317., 24188., 41611.,\n",
       "       28406., 69833., 80536., 88891., 97732., 61222., 50335., 82210.,\n",
       "       64495., 28859., 77330., 33060., 42557., 26372., 17514., 89270.,\n",
       "       29757., 51814., 24028., 28142., 52705., 54040., 22492., 21876.,\n",
       "       70699., 27501., 15897., 25141., 28358., 62530., 90972., 63110.,\n",
       "       29549., 39411., 21709., 67890., 84311., 99316., 54507., 64586.,\n",
       "       61709., 94656., 61085., 89284., 31686., 56855., 53703., 27679.,\n",
       "       23904., 65351., 64459., 32961., 71416., 68964., 78108., 10621.,\n",
       "       84910., 77493., 81097., 96610., 30110., 22081., 98473., 97431.,\n",
       "       93870., 50366., 34498., 16552., 26787., 43860., 21474., 18174.,\n",
       "       60920., 41520., 72208., 53863., 66446., 64997., 64460., 46618.,\n",
       "       49988., 16269., 72006., 44320., 19782., 63933., 28224., 21073.,\n",
       "       63243., 94827., 39161., 37534., 80210., 21708., 94731., 32375.,\n",
       "       16531., 32006., 81676., 71038., 20832., 52405., 26583., 25486.,\n",
       "       24065., 70435., 39679., 53565., 37574., 48259., 78532., 96163.,\n",
       "       72672., 99002., 79494., 35704., 26049., 70125., 52369., 41770.,\n",
       "       31911., 70051., 19683., 30916., 84302., 60145., 63774., 25134.,\n",
       "       37057., 58577., 85857., 70602., 33816., 89642., 60068., 50044.,\n",
       "       36650., 50653., 68931., 39266., 40864., 39035., 34923., 24506.,\n",
       "       52220., 53554., 34476., 68205., 53690., 74454., 29664., 72450.,\n",
       "       47272., 21585., 23827., 69906., 73196., 72217., 46131., 54514.,\n",
       "       96668., 78879., 29735., 23082., 53984., 52135., 17576., 29486.,\n",
       "       58557., 25632., 18768., 47945., 58778., 15192., 51859., 23422.,\n",
       "       21604., 79298., 76731., 38460., 48534., 30817., 48412., 68798.,\n",
       "       23712., 72196., 68197., 75248., 89879., 46998., 57099., 33897.,\n",
       "       59207., 40171., 80192., 74422., 34226., 65989., 30686., 20090.,\n",
       "       77094., 97413., 79189., 18577., 62777., 17483., 84394., 41440.,\n",
       "       98132., 88220., 58327., 25950., 65726., 84768., 36234., 58842.,\n",
       "       25629., 77311., 95697., 22254., 65974., 92079., 67752., 25398.,\n",
       "       33321., 38923., 20325., 13129., 49080., 42536., 29926., 21450.,\n",
       "       33345., 15752., 40169., 55411., 12459., 64620., 83140., 54422.,\n",
       "       68309., 56621., 38977., 83235., 32390., 66538., 23285., 76358.,\n",
       "       21104., 12964., 33288., 56168., 23105., 36218., 52275., 49665.,\n",
       "       32471., 62773., 76694., 55687., 36633., 77060., 92600., 64801.,\n",
       "       45257., 26854., 85840., 26463., 30689., 29590., 25965., 17269.,\n",
       "       90330., 18558., 46384., 42303., 71731., 26173., 24445., 72302.,\n",
       "       27208., 30855., 99960., 55873., 18052., 28937., 12829., 92163.,\n",
       "       17588., 41546., 70340., 34549., 93459., 86148., 27048., 73259.,\n",
       "       35482., 29462., 67801., 16042., 28056., 16495., 41163., 33799.,\n",
       "       90125., 87747., 35695., 90985., 66839., 79090., 24825., 26806.,\n",
       "       56835., 46135., 22862., 95854., 44897., 64455., 53265., 50450.,\n",
       "       54780., 67798., 21442., 27615., 50200., 73570., 70412., 36631.,\n",
       "       35895., 93018., 70014., 48875., 67969., 68665., 26802., 45345.,\n",
       "       89689., 32051., 81139., 63834., 37548., 72421., 83102., 28432.,\n",
       "       83707., 63259., 63860., 43836., 86132., 28519., 39102., 97298.,\n",
       "       41986., 17291., 37256., 96306., 14290., 37038., 90760., 77048.,\n",
       "       54480., 16244., 22436., 71592., 28728., 57449., 83318., 75217.,\n",
       "       55308., 36068., 48804., 55790., 70258., 47274., 44705., 70446.,\n",
       "       64348., 88997., 10312., 96263., 28919., 41869., 32808., 79780.,\n",
       "       91025., 33043., 69442., 47234., 86863., 25805., 43676., 59855.,\n",
       "       35296., 36576., 28513., 85448., 23791., 20597., 56940., 93210.,\n",
       "       48992., 53736., 25378., 37722., 69379., 33806., 94041., 74965.,\n",
       "       34095., 96045., 86355., 27824., 42995., 21235., 74585., 41833.,\n",
       "       23908., 61953., 73760., 23333., 20440., 27658., 50943., 19003.,\n",
       "       46703., 21733., 20811., 11904., 43490., 57340., 49088., 47761.,\n",
       "       61281., 25290., 24239., 82664., 83210., 38736., 55437., 68041.,\n",
       "       29066., 54337., 67616., 41082., 50631., 19592., 55761., 41449.,\n",
       "       62007., 21921., 42621., 63786., 82877., 10475., 21952., 49721.,\n",
       "       88340., 24589., 73769., 66670., 88854., 31266., 67267., 79270.,\n",
       "       36692., 44624., 19614., 83846., 51159., 83772., 88440., 25666.,\n",
       "       52926., 40001., 18024., 23220., 64125., 58042., 90034., 27972.,\n",
       "       50989., 11885., 89451., 78904., 70247., 32653., 93595., 90279.,\n",
       "       53310., 22234., 91375., 22250., 51179., 38667., 79487., 67763.,\n",
       "       71943., 53526., 35005., 24721., 48587., 76310., 73205., 51056.,\n",
       "       58414., 23940., 44216., 29305., 53882., 91757., 33906., 68158.,\n",
       "       42165., 68074., 84978., 71135., 64642., 46754., 70410., 66957.,\n",
       "       24213., 99790., 79751., 86122., 82297., 89057., 43259., 25064.,\n",
       "       25816., 41662., 96170., 46072., 37931., 35127., 45473., 93087.,\n",
       "       22398., 92983., 27689., 69654., 18608., 73168., 70930., 62262.,\n",
       "       91474., 61469., 16618., 48081., 67632., 34115., 23051., 23748.,\n",
       "       40589., 50809., 66676., 52339., 14973., 31546., 20836., 88592.,\n",
       "       66943., 81872., 22404., 21342., 34621., 62396., 97212., 49648.,\n",
       "       97984., 26308., 63528., 20225., 87620., 34990., 99934., 60804.,\n",
       "       94648., 24516., 61063., 15169., 55390., 27592., 61846., 83297.,\n",
       "       55897., 21297., 87560., 89398., 36843., 34946., 75680., 49532.,\n",
       "       10269., 49714., 77517., 81082., 72540., 61546., 44818., 79797.,\n",
       "       92717., 63568., 73935., 18846., 38893., 84824., 20068., 97245.,\n",
       "       51808., 71391., 23496., 55561., 23986., 22974., 61844., 27760.,\n",
       "       52266., 23599., 36088., 70534., 27398., 85296., 31063., 52367.,\n",
       "       58651., 84831., 70263., 45354., 28334., 38772., 41479., 23909.,\n",
       "       48328., 86689., 24204., 25943., 62375., 70200., 79027., 62935.,\n",
       "       26893., 47406., 27572., 32802., 62739., 90844., 44685., 42589.,\n",
       "       93383., 79583., 89129., 94389., 84106., 76717., 51978., 47325.,\n",
       "       86721., 24910., 43817., 59537., 54193., 86946., 12160., 33701.,\n",
       "       85702., 69417., 38644., 63209., 16061., 54230.])"
      ]
     },
     "execution_count": 36,
     "metadata": {},
     "output_type": "execute_result"
    }
   ],
   "source": [
    "data['income'].unique()"
   ]
  },
  {
   "cell_type": "code",
   "execution_count": 37,
   "id": "4ea08348",
   "metadata": {},
   "outputs": [
    {
     "data": {
      "text/plain": [
       "0.0        252\n",
       "43860.0      4\n",
       "17622.0      4\n",
       "36650.0      3\n",
       "14072.0      3\n",
       "          ... \n",
       "29486.0      1\n",
       "58557.0      1\n",
       "25632.0      1\n",
       "18768.0      1\n",
       "54230.0      1\n",
       "Name: income, Length: 774, dtype: int64"
      ]
     },
     "execution_count": 37,
     "metadata": {},
     "output_type": "execute_result"
    }
   ],
   "source": [
    "data['income'].value_counts()"
   ]
  },
  {
   "cell_type": "code",
   "execution_count": 38,
   "id": "8c65fe82",
   "metadata": {},
   "outputs": [
    {
     "data": {
      "text/plain": [
       "99960.0"
      ]
     },
     "execution_count": 38,
     "metadata": {},
     "output_type": "execute_result"
    }
   ],
   "source": [
    "range_income=data['income'].max()-data['income'].min()\n",
    "range_income  #range before replacing 0"
   ]
  },
  {
   "cell_type": "code",
   "execution_count": 39,
   "id": "2ed8acf7",
   "metadata": {},
   "outputs": [
    {
     "data": {
      "text/plain": [
       "36234.0    253\n",
       "43860.0      4\n",
       "17622.0      4\n",
       "36650.0      3\n",
       "14072.0      3\n",
       "          ... \n",
       "52135.0      1\n",
       "29486.0      1\n",
       "58557.0      1\n",
       "25632.0      1\n",
       "54230.0      1\n",
       "Name: income, Length: 773, dtype: int64"
      ]
     },
     "execution_count": 39,
     "metadata": {},
     "output_type": "execute_result"
    }
   ],
   "source": [
    "income_median=data['income'].median()\n",
    "data['income']=data['income'].replace(0,income_median)\n",
    "data['income'].value_counts()"
   ]
  },
  {
   "cell_type": "code",
   "execution_count": 40,
   "id": "987798d5",
   "metadata": {},
   "outputs": [
    {
     "data": {
      "text/plain": [
       "89855.0"
      ]
     },
     "execution_count": 40,
     "metadata": {},
     "output_type": "execute_result"
    }
   ],
   "source": [
    "range_income=data['income'].max()-data['income'].min()\n",
    "range_income"
   ]
  },
  {
   "cell_type": "markdown",
   "id": "f67629bc",
   "metadata": {},
   "source": [
    "Using the median to replace the zeros in the 'income' column reduces the range of the column"
   ]
  },
  {
   "cell_type": "code",
   "execution_count": 41,
   "id": "0bfc1af1",
   "metadata": {},
   "outputs": [
    {
     "data": {
      "text/plain": [
       "array([ 1000.,    94.,   108.,   106.,    68.,    69.,    67.,   101.,\n",
       "          71.,    93.,   110.,    70.,    64.,    72.,    74.,    79.,\n",
       "          73.,    61.,   111.,    80.,    63.,   237.,    65.,   130.,\n",
       "          62.,   117.,    91.,    90.,    66.,    99.,   103., 35354.,\n",
       "         172.,    92.,   104.,   113.,   124.,   105.,   100.,   112.,\n",
       "          97.,    95.,   102.,    96.,   186.,    77.,    76.,   119.,\n",
       "          87.,   109.,   107.,    88.,    85.,  6464.,   133.,    86.,\n",
       "          78.,    89.,   192.,   118.,   140.,   127.,   126.,    82.,\n",
       "         115.,   217.,   114.,   138.,    81.,   255.,   150.,   123.,\n",
       "         116.,   190.,    98.,   159.,    84.,    83.,   152.,   136.,\n",
       "         245.,   135.,  1005.,   225.,   132.,   153.,   121.,   139.,\n",
       "         154.,   161.,   156.,   171.,   244.,   183.,   176.,   230.,\n",
       "         129.,   177.,   181.,   196.,   131.,   276.,   253.,   137.,\n",
       "         180.,   203.,   147.,   165.,   198.,   125.,   193.,   128.,\n",
       "         271.,   142., 10202.,   206.,   182.,   189.,   160.,   295.,\n",
       "         210.,   134., 35353.,   239.,   188.,   256.,   173.,   285.,\n",
       "         148.,   141.,   197.,   199.])"
      ]
     },
     "execution_count": 41,
     "metadata": {},
     "output_type": "execute_result"
    }
   ],
   "source": [
    "data['monthly premium auto'].unique()"
   ]
  },
  {
   "cell_type": "code",
   "execution_count": 42,
   "id": "dd5b5aca",
   "metadata": {},
   "outputs": [
    {
     "data": {
      "text/plain": [
       "65.0     47\n",
       "63.0     39\n",
       "71.0     37\n",
       "67.0     37\n",
       "73.0     37\n",
       "         ..\n",
       "177.0     1\n",
       "181.0     1\n",
       "276.0     1\n",
       "253.0     1\n",
       "199.0     1\n",
       "Name: monthly premium auto, Length: 132, dtype: int64"
      ]
     },
     "execution_count": 42,
     "metadata": {},
     "output_type": "execute_result"
    }
   ],
   "source": [
    "data['monthly premium auto'].value_counts()"
   ]
  },
  {
   "cell_type": "code",
   "execution_count": 43,
   "id": "a0c141c6",
   "metadata": {},
   "outputs": [
    {
     "data": {
      "text/plain": [
       "35293.0"
      ]
     },
     "execution_count": 43,
     "metadata": {},
     "output_type": "execute_result"
    }
   ],
   "source": [
    "range_monthly_premium=data['monthly premium auto'].max()-data['monthly premium auto'].min()\n",
    "range_monthly_premium"
   ]
  },
  {
   "cell_type": "code",
   "execution_count": 44,
   "id": "18a7f1a4",
   "metadata": {},
   "outputs": [
    {
     "data": {
      "text/plain": [
       "array([2.70493400e+00, 1.13146493e+03, 5.66472247e+02, 5.29881344e+02,\n",
       "       1.72693230e+01, 1.59383042e+02, 3.21600000e+02, 3.63029680e+02,\n",
       "       5.11200000e+02, 4.25527834e+02, 4.82400000e+02, 5.28000000e+02,\n",
       "       4.72029737e+02, 3.07139132e+02, 4.29202710e+01, 4.54245098e+02,\n",
       "       6.47442031e+02, 3.08981664e+02, 4.84800000e+02, 3.55200000e+02,\n",
       "       2.03828760e+01, 5.54376763e+02, 4.39200000e+02, 3.89185006e+02,\n",
       "       7.99200000e+02, 2.09851050e+01, 5.32800000e+02, 3.84000000e+02,\n",
       "       3.22294043e+02, 6.15927769e+02, 3.08150890e+02, 2.38201580e+01,\n",
       "       1.54376810e+01, 2.04475147e+02, 5.61600000e+02, 4.36800000e+02,\n",
       "       6.48000000e+02, 1.57397849e+02, 4.84318536e+02, 1.89189350e+01,\n",
       "       8.82871945e+02, 4.94400000e+02, 3.17073170e+01, 5.17753000e-01,\n",
       "       5.79165954e+02, 4.47793440e+02, 5.29624084e+02, 3.13023175e+02,\n",
       "       5.93830288e+02, 5.08800000e+02, 1.73956072e+02, 3.31928030e+01,\n",
       "       8.31625979e+02, 3.02565190e+02, 7.04768111e+02, 5.18400000e+02,\n",
       "       3.12000000e+02, 5.04000000e+02, 8.63327324e+02, 1.04331355e+02,\n",
       "       6.76391482e+02, 3.50400000e+02, 5.37600000e+02, 4.65258644e+02,\n",
       "       4.56000000e+02, 5.00254235e+02, 2.81451042e+02, 5.43450500e+00,\n",
       "       3.07200000e+02, 9.82399613e+02, 4.67803638e+02, 2.90341600e+01,\n",
       "       4.11223030e+01, 4.27631210e+02, 2.58076850e+01, 7.87993313e+02,\n",
       "       4.89600000e+02, 3.02400000e+02, 4.75623251e+02, 4.52150590e+01,\n",
       "       4.60800000e+02, 2.82151207e+02, 3.64800000e+02, 6.79827592e+02,\n",
       "       4.60414520e+01, 1.18790370e+01, 3.50529033e+02, 8.63394700e+02,\n",
       "       4.92127532e+02, 1.32588288e+02, 2.97600000e+02, 2.69905129e+02,\n",
       "       3.80036697e+02, 5.13600000e+02, 4.25266308e+02, 4.90110990e+01,\n",
       "       9.36000000e+02, 1.42062768e+02, 4.51525210e+01, 3.05673570e+01,\n",
       "       2.71606799e+02, 4.08000000e+02, 4.61581170e+01, 7.84800000e+02,\n",
       "       3.16800000e+02, 4.80468690e+01, 6.38400000e+02, 4.65633954e+02,\n",
       "       3.68400146e+02, 2.36902001e+02, 4.94511170e+01, 6.41096630e+01,\n",
       "       3.26400000e+02, 9.21600000e+02, 1.01896450e+02, 5.42400000e+02,\n",
       "       1.43747794e+02, 4.24077159e+02, 5.04221810e+01, 5.23200000e+02,\n",
       "       1.13801497e+02, 1.92875720e+02, 8.28662719e+02, 9.75107098e+02,\n",
       "       5.37987080e+01, 5.05283550e+01, 2.89912200e+02, 3.92604371e+02,\n",
       "       7.21242206e+02, 4.56523850e+02, 1.08799543e+03, 5.19619150e+01,\n",
       "       2.51992083e+02, 3.45600000e+02, 9.92576080e+01, 5.67315780e+01,\n",
       "       5.75623240e+01, 6.04800000e+02, 8.31272900e+00, 3.16599228e+02,\n",
       "       5.63007240e+01, 3.93600000e+02, 7.01708239e+02, 1.28705563e+02,\n",
       "       6.79368378e+02, 5.99871260e+01, 5.66400000e+02, 6.16542620e+01,\n",
       "       5.54400000e+02, 4.65414770e+02, 4.96800000e+02, 2.92800000e+02,\n",
       "       2.56813837e+02, 5.42319401e+02, 3.03148399e+02, 2.54380630e+01,\n",
       "       8.40244130e+01, 6.16937710e+01, 2.32926145e+02, 6.81797210e+01,\n",
       "       7.10433775e+02, 5.52000000e+02, 1.12265890e+03, 4.08374746e+02,\n",
       "       7.92000000e+02, 7.54358929e+02, 7.02990032e+02, 2.06837111e+02,\n",
       "       2.75395894e+02, 4.59738128e+02, 3.36000000e+02, 4.30994107e+02,\n",
       "       1.83600000e+03, 6.76324760e+01, 8.44481918e+02, 7.22486994e+02,\n",
       "       5.90400000e+02, 4.81027516e+02, 1.12442773e+03, 6.69682001e+02,\n",
       "       1.28409317e+03, 2.40259479e+02, 9.12000000e+02, 5.56800000e+02,\n",
       "       1.15086827e+02, 4.70400000e+02, 3.83167471e+02, 3.07963291e+02,\n",
       "       5.20364752e+02, 4.66436375e+02, 4.51670309e+02, 3.31200000e+02,\n",
       "       4.28734656e+02, 3.98400000e+02, 3.69600000e+02, 8.31752839e+02,\n",
       "       1.56124914e+02, 3.73428187e+02, 3.95934815e+02, 2.31201886e+02,\n",
       "       2.89904105e+02, 7.29600000e+02, 1.05765111e+02, 6.39464548e+02,\n",
       "       3.83442328e+02, 9.90859430e+01, 5.66935022e+02, 4.12800000e+02,\n",
       "       3.88800000e+02, 2.34541344e+03, 7.73470977e+02, 4.24883448e+02,\n",
       "       3.64240307e+02, 3.54729129e+02, 2.83995953e+02, 4.03200000e+02,\n",
       "       2.05431760e+01, 3.85115437e+02, 1.40165035e+02, 1.02879769e+02,\n",
       "       5.68682890e+01, 4.63158502e+02, 2.05444066e+02, 7.41600000e+02,\n",
       "       5.63719670e+01, 8.13600000e+02, 7.95864079e+02, 6.14400000e+02,\n",
       "       7.24386810e+01, 6.78815460e+01, 4.02636829e+02, 6.41388616e+02,\n",
       "       3.42481173e+02, 3.40800000e+02, 4.12101933e+02, 7.37005730e+01,\n",
       "       3.74400000e+02, 7.22024742e+02, 2.59361117e+02, 3.96295614e+02,\n",
       "       3.58281562e+02, 6.53388564e+02, 1.21032372e+02, 9.28133960e+01,\n",
       "       1.59636956e+02, 4.76156957e+02, 7.27200000e+02, 4.20783450e+01,\n",
       "       2.00116060e+02, 6.76944023e+02, 7.66092950e+01, 8.30623064e+02,\n",
       "       5.80473259e+02, 6.00366830e+01, 4.75310100e+01, 3.03872752e+02,\n",
       "       1.00620067e+02, 4.81339891e+02, 1.10160000e+03, 8.63200220e+01,\n",
       "       6.67200000e+02, 5.66033300e+01, 2.62865172e+02, 3.09577946e+02,\n",
       "       3.65364581e+02, 7.05600000e+02, 9.51528000e+00, 2.44564334e+02,\n",
       "       6.39105556e+02, 4.53600000e+02, 5.54522969e+02, 4.02449823e+02,\n",
       "       3.27020539e+02, 5.39530000e+00, 1.31401291e+02, 9.93829430e+01,\n",
       "       8.56800000e+02, 7.39200000e+02, 8.42183630e+01, 6.45468770e+01,\n",
       "       4.41600000e+02, 3.79106230e+01, 2.02860399e+02, 8.58098170e+01,\n",
       "       9.11466610e+01, 2.86234931e+02, 1.15920000e+03, 4.66570791e+02,\n",
       "       1.25240623e+03, 4.21484456e+02, 4.30505942e+02, 3.98502948e+02,\n",
       "       7.64676300e+00, 5.55105260e+01, 3.51270869e+02, 8.06400000e+02,\n",
       "       6.47454583e+02, 1.28438230e+02, 3.02033971e+02, 4.80000000e+02,\n",
       "       1.00316063e+03, 3.79200000e+02, 2.44362072e+02, 2.01455005e+02,\n",
       "       9.15509800e+01, 9.18346680e+01, 7.07430832e+02, 9.29152510e+01,\n",
       "       3.76126419e+02, 1.52184244e+02, 1.76819414e+02, 1.04454624e+02,\n",
       "       9.41718054e+02, 4.68000000e+02, 9.40303080e+01, 6.78598810e+01,\n",
       "       5.39843003e+02, 9.51931570e+01, 9.53385050e+01, 6.26400000e+02,\n",
       "       4.94395024e+02, 1.15545086e+02, 1.99389810e+01, 7.99926741e+02,\n",
       "       8.78400000e+02, 4.44470676e+02, 2.68819985e+02, 1.01288069e+02,\n",
       "       1.31760000e+03, 6.91412378e+02, 8.04811859e+02, 1.09086434e+03,\n",
       "       5.05870350e+01, 1.51528482e+02, 3.47075948e+02, 2.71697529e+02,\n",
       "       8.49600000e+02, 1.10484661e+02, 1.13534474e+02, 5.95200000e+02,\n",
       "       1.13609508e+02, 1.33706349e+03, 1.14273025e+02, 1.25194389e+02,\n",
       "       2.35220971e+02, 3.95341110e+02, 1.14798771e+02, 7.72798511e+02,\n",
       "       6.33600000e+02, 1.68517149e+02, 8.45654042e+02, 1.15728852e+02,\n",
       "       6.68293970e+02, 7.00901632e+02, 5.25600000e+02, 2.52990000e+01,\n",
       "       3.75330097e+02, 4.18233667e+02, 3.98240791e+02, 9.38513425e+02,\n",
       "       3.38619869e+02, 3.39344531e+02, 3.02818833e+02, 6.19165344e+02,\n",
       "       2.59561195e+02, 1.79161843e+02, 6.62400000e+02, 7.55018520e+01,\n",
       "       3.06983596e+02, 8.40268480e+01, 1.39489926e+02, 6.07445900e+02,\n",
       "       6.31124372e+02, 6.28023494e+02, 4.26655599e+02, 9.14179230e+01,\n",
       "       3.17844812e+02, 1.18446235e+02, 8.64615820e+01, 1.18454974e+02,\n",
       "       3.62774545e+02, 2.21856184e+02, 9.80169081e+02, 6.14675906e+02,\n",
       "       1.45252168e+02, 3.74240783e+02, 6.19200000e+02, 8.06692570e+01,\n",
       "       1.32480000e+03, 4.68566133e+02, 8.42437850e+02, 4.75200000e+02,\n",
       "       1.17193117e+03, 2.68471802e+02, 1.38722385e+02, 4.67248020e+02,\n",
       "       4.67503236e+02, 1.21440000e+03, 1.92085299e+02, 6.19973889e+02,\n",
       "       1.00278255e+03, 2.51774574e+02, 8.66208321e+02, 1.21092095e+03,\n",
       "       5.99648466e+02, 2.02772444e+03, 7.28520470e+01, 4.49819671e+02,\n",
       "       2.59060862e+02, 2.99356083e+02, 6.99167900e+02, 1.17959654e+02,\n",
       "       5.45240341e+02, 3.28231432e+02, 6.65686420e+01, 1.38240000e+03,\n",
       "       1.21306839e+02, 6.09600000e+02, 1.25933005e+02, 6.55413330e+02,\n",
       "       6.73342650e+02, 2.38104910e+01, 4.51200000e+02, 2.31922173e+02,\n",
       "       7.72800000e+02, 6.64980242e+02, 1.28645946e+02, 4.64920390e+01,\n",
       "       4.32000000e+02, 7.80851490e+01, 5.64466556e+02, 2.89040734e+02,\n",
       "       1.55938593e+02, 3.26549425e+02, 6.53656680e+02, 1.03935601e+02,\n",
       "       8.09532341e+02, 5.80725310e+02, 1.33735395e+02, 2.38005074e+02,\n",
       "       1.57767442e+03, 1.35892444e+02, 1.35261250e+02, 5.71200000e+02,\n",
       "       6.37063458e+02, 7.59360960e+01, 1.36291083e+02, 6.75309040e+01,\n",
       "       3.12921256e+02, 1.66937747e+02, 1.35382194e+02, 1.77429540e+01,\n",
       "       1.83836700e+00, 1.97776009e+02, 6.12102262e+02, 1.19303615e+03,\n",
       "       6.00000000e+02, 1.36829537e+02, 9.26400000e+02, 3.92636400e+02,\n",
       "       2.15226476e+02, 1.60598662e+02, 3.71803029e+02, 4.43670399e+02,\n",
       "       6.12300581e+02, 2.90391526e+02, 3.16795337e+02, 4.05527937e+02,\n",
       "       2.08598246e+02, 1.38130879e+02, 3.01437365e+02, 4.56473115e+02,\n",
       "       1.52338562e+02, 4.91755368e+02, 4.85174390e+01, 4.30375049e+02,\n",
       "       2.46489123e+02, 1.28969729e+02, 1.85355353e+02, 1.30080000e+03,\n",
       "       9.07130500e+00, 1.33475315e+02, 1.41199465e+02, 6.23223617e+02,\n",
       "       4.27200000e+02, 1.41725051e+02, 2.11336937e+02, 1.47080303e+02,\n",
       "       8.62762957e+02, 1.13367765e+02, 9.43200000e+02, 1.17672722e+02,\n",
       "       2.25145949e+02, 1.82432565e+02, 1.48173152e+02, 1.55570802e+02,\n",
       "       2.12391975e+02, 1.74041566e+02, 4.86278557e+02, 1.92470900e+00,\n",
       "       2.62122050e+02, 5.41695658e+02, 3.27682669e+02, 1.26557030e+03,\n",
       "       6.30431970e+01, 1.56313630e+01, 3.75866091e+02, 4.52616872e+02,\n",
       "       1.13450122e+02, 1.60345100e+01, 6.15272280e+02, 6.15256301e+02,\n",
       "       5.12662450e+02, 7.45239350e+01, 4.26072946e+02, 1.69287785e+02,\n",
       "       4.19464143e+02, 1.58077504e+02, 6.69600000e+02, 3.95729716e+02,\n",
       "       1.59756733e+02, 5.85575520e+01, 8.58297100e+00, 2.85418473e+02,\n",
       "       4.10508316e+02, 2.44231350e+02, 2.18598065e+02, 6.43826716e+02,\n",
       "       4.97047297e+02, 1.02240000e+03, 6.57600000e+02, 2.30245772e+02,\n",
       "       5.62275100e+00, 1.60075260e+02, 3.46513050e+01, 6.78100487e+02,\n",
       "       1.74588413e+02, 1.59391681e+02, 6.98400000e+02, 2.32711071e+02,\n",
       "       1.63046956e+02, 7.98656050e+01, 3.82085897e+02, 4.83483190e+01,\n",
       "       1.33425609e+02, 5.61414794e+02, 4.45287788e+02, 1.65570243e+02,\n",
       "       4.07996840e+02, 8.44229478e+02, 3.40306584e+02, 1.06647493e+02,\n",
       "       6.26116259e+02, 7.84657810e+02, 5.47200000e+02, 8.62777200e+01,\n",
       "       6.35165720e+01, 1.20015609e+02, 1.25413790e+03, 4.17600000e+02,\n",
       "       7.98002689e+02, 8.20416840e+01, 2.28190880e+01, 4.22400000e+02,\n",
       "       6.39971388e+02, 5.11497882e+02, 2.39540223e+02, 5.18180364e+02,\n",
       "       7.15252366e+02, 4.02070719e+02, 9.48140320e+01, 9.72000000e+02,\n",
       "       7.38830440e+01, 5.74024018e+02, 6.32715382e+02, 4.23862600e+00,\n",
       "       4.22480870e+01, 2.71451510e+01, 2.70002766e+02, 4.94946438e+02,\n",
       "       1.42567008e+02, 2.51334247e+02, 3.69818708e+02, 1.61419528e+02,\n",
       "       2.55999709e+02, 6.17695640e+01, 1.31040000e+03, 2.50001424e+02,\n",
       "       1.41799422e+02, 4.97970160e+01, 3.72175592e+02, 5.42143850e+02,\n",
       "       1.36080000e+03, 7.68000000e+02, 7.26329340e+01, 7.20601429e+02,\n",
       "       5.76000000e+02, 4.81025786e+02, 4.66176731e+02, 1.59266473e+02,\n",
       "       4.12831670e+01, 5.03808329e+02, 8.59599411e+02, 3.05653785e+02,\n",
       "       2.78902846e+02, 1.41600000e+03, 1.39963594e+02, 7.34400000e+02,\n",
       "       3.72998650e+01, 9.58165160e+01, 1.00800000e+03, 4.46400000e+02,\n",
       "       7.22053620e+01, 4.01592109e+02, 2.53183568e+02, 6.43200000e+02,\n",
       "       7.99673766e+02, 2.79878670e+01, 1.66772960e+02, 2.70563995e+02,\n",
       "       1.78006524e+02, 4.04265696e+02, 5.13818403e+02, 1.31828507e+02,\n",
       "       6.28800000e+02, 1.78986788e+02, 3.92235698e+02, 8.73600000e+02,\n",
       "       3.82107000e-01, 1.87363583e+02, 3.50853987e+02, 2.17973168e+02,\n",
       "       2.59340640e+01, 1.88938397e+02, 1.53205591e+02, 2.89323968e+03,\n",
       "       6.29532731e+02, 3.61284757e+02, 1.18598830e+03, 4.25800112e+02,\n",
       "       1.90434460e+02, 1.93505325e+02, 2.40877740e+01, 2.19288706e+02,\n",
       "       8.81360959e+02, 2.69516270e+01, 4.66122541e+02, 6.07095655e+02,\n",
       "       2.90381707e+02, 5.58099357e+02, 8.28000000e+02, 5.40514115e+02,\n",
       "       1.00049832e+02, 5.98619630e+01, 1.93570320e+02, 1.99797270e+02,\n",
       "       5.30847530e+01, 2.56438030e+02, 2.11136067e+02, 7.43508930e+01,\n",
       "       6.21464468e+02, 3.60055890e+02, 6.59548130e+01, 4.07450118e+02,\n",
       "       1.22880000e+03, 2.40636930e+01, 3.11329282e+02, 4.26891350e+01,\n",
       "       4.60323855e+02, 2.13225001e+02, 3.00607591e+02, 2.62504882e+02,\n",
       "       2.63365432e+02, 2.56268091e+02, 2.15818200e+02, 1.35360000e+03,\n",
       "       4.99200000e+02, 4.55079520e+01, 6.91200000e+02, 8.24099220e+01,\n",
       "       3.57642982e+02, 4.20356980e+02, 1.36787725e+02, 2.20186677e+02,\n",
       "       1.70798204e+02, 2.66165535e+02, 9.89217820e+01, 2.81295903e+02,\n",
       "       6.31743039e+02, 2.92095210e+01, 1.36883999e+02, 3.17556010e+01,\n",
       "       2.24275820e+02, 8.30400000e+02, 4.80159011e+02, 3.90792553e+02,\n",
       "       7.20711950e+01, 4.19652520e+01, 1.02700003e+03, 3.19820747e+02,\n",
       "       4.11011162e+02, 4.11058500e+00, 3.51149904e+02, 2.84000172e+02,\n",
       "       4.96474767e+02, 9.25137143e+02, 1.31640970e+01, 2.27872071e+02,\n",
       "       4.63335061e+02, 1.80667969e+02, 3.02764283e+02, 1.41922839e+02,\n",
       "       3.49783046e+02, 5.40655380e+01, 3.42515136e+02, 1.02717726e+03,\n",
       "       2.75989978e+02, 4.72599683e+02, 1.33693172e+03, 7.34594600e+00,\n",
       "       5.40141566e+02, 3.83363758e+02, 5.37765151e+02, 3.21873474e+02,\n",
       "       1.95756830e+01, 1.08138715e+02, 7.07303416e+02, 1.06733313e+03,\n",
       "       8.07947292e+02, 6.18630955e+02, 4.04272806e+02, 7.10400000e+02,\n",
       "       7.07977614e+02, 2.32242326e+02, 6.82260010e+01, 2.87149807e+02,\n",
       "       3.91636628e+02, 2.39328571e+02, 2.32674417e+02, 3.36509610e+02,\n",
       "       2.44212286e+02, 3.28870868e+02, 8.50637080e+01, 1.41840000e+03,\n",
       "       3.34408717e+02, 4.20964150e+01, 3.00528579e+02, 1.44782152e+02,\n",
       "       6.45982160e+01, 3.47857619e+02, 2.45447622e+02, 9.55200000e+02,\n",
       "       7.20752945e+02, 3.40656963e+02, 5.46524896e+02, 4.89411833e+02,\n",
       "       1.71325856e+02, 2.49085887e+02, 3.08748690e+01, 3.61455219e+02,\n",
       "       2.07320041e+02])"
      ]
     },
     "execution_count": 44,
     "metadata": {},
     "output_type": "execute_result"
    }
   ],
   "source": [
    "data['total claim amount'].unique()"
   ]
  },
  {
   "cell_type": "code",
   "execution_count": 45,
   "id": "c18c8025",
   "metadata": {},
   "outputs": [
    {
     "data": {
      "text/plain": [
       "321.600000    19\n",
       "331.200000    15\n",
       "312.000000    14\n",
       "350.400000    14\n",
       "316.800000    12\n",
       "              ..\n",
       "421.484456     1\n",
       "430.505942     1\n",
       "7.646763       1\n",
       "55.510526      1\n",
       "207.320041     1\n",
       "Name: total claim amount, Length: 761, dtype: int64"
      ]
     },
     "execution_count": 45,
     "metadata": {},
     "output_type": "execute_result"
    }
   ],
   "source": [
    "data['total claim amount'].value_counts()"
   ]
  },
  {
   "cell_type": "code",
   "execution_count": 46,
   "id": "e003376b",
   "metadata": {},
   "outputs": [
    {
     "data": {
      "text/plain": [
       "2892.857571"
      ]
     },
     "execution_count": 46,
     "metadata": {},
     "output_type": "execute_result"
    }
   ],
   "source": [
    "range_claim_amount=data['total claim amount'].max()-data['total claim amount'].min()\n",
    "range_claim_amount"
   ]
  },
  {
   "cell_type": "markdown",
   "id": "f1a66924",
   "metadata": {},
   "source": [
    "4. Compute summary statistics such as mean, median, mode, standard deviation, and quartiles to understand the central tendency and distribution of the data for numerical columns. You should also provide your conclusions based on these summary statistics."
   ]
  },
  {
   "cell_type": "code",
   "execution_count": 47,
   "id": "3fbcfed4",
   "metadata": {},
   "outputs": [
    {
     "data": {
      "text/html": [
       "<div>\n",
       "<style scoped>\n",
       "    .dataframe tbody tr th:only-of-type {\n",
       "        vertical-align: middle;\n",
       "    }\n",
       "\n",
       "    .dataframe tbody tr th {\n",
       "        vertical-align: top;\n",
       "    }\n",
       "\n",
       "    .dataframe thead th {\n",
       "        text-align: right;\n",
       "    }\n",
       "</style>\n",
       "<table border=\"1\" class=\"dataframe\">\n",
       "  <thead>\n",
       "    <tr style=\"text-align: right;\">\n",
       "      <th></th>\n",
       "      <th>customer lifetime value</th>\n",
       "      <th>income</th>\n",
       "      <th>monthly premium auto</th>\n",
       "      <th>total claim amount</th>\n",
       "    </tr>\n",
       "  </thead>\n",
       "  <tbody>\n",
       "    <tr>\n",
       "      <th>0</th>\n",
       "      <td>7.936903e+05</td>\n",
       "      <td>36234.0</td>\n",
       "      <td>1000.0</td>\n",
       "      <td>2.704934</td>\n",
       "    </tr>\n",
       "    <tr>\n",
       "      <th>1</th>\n",
       "      <td>6.979536e+05</td>\n",
       "      <td>36234.0</td>\n",
       "      <td>94.0</td>\n",
       "      <td>1131.464935</td>\n",
       "    </tr>\n",
       "    <tr>\n",
       "      <th>2</th>\n",
       "      <td>1.288743e+06</td>\n",
       "      <td>48767.0</td>\n",
       "      <td>108.0</td>\n",
       "      <td>566.472247</td>\n",
       "    </tr>\n",
       "    <tr>\n",
       "      <th>3</th>\n",
       "      <td>7.645862e+05</td>\n",
       "      <td>36234.0</td>\n",
       "      <td>106.0</td>\n",
       "      <td>529.881344</td>\n",
       "    </tr>\n",
       "    <tr>\n",
       "      <th>4</th>\n",
       "      <td>5.363077e+05</td>\n",
       "      <td>36357.0</td>\n",
       "      <td>68.0</td>\n",
       "      <td>17.269323</td>\n",
       "    </tr>\n",
       "    <tr>\n",
       "      <th>...</th>\n",
       "      <td>...</td>\n",
       "      <td>...</td>\n",
       "      <td>...</td>\n",
       "      <td>...</td>\n",
       "    </tr>\n",
       "    <tr>\n",
       "      <th>1066</th>\n",
       "      <td>3.059550e+05</td>\n",
       "      <td>38644.0</td>\n",
       "      <td>78.0</td>\n",
       "      <td>361.455219</td>\n",
       "    </tr>\n",
       "    <tr>\n",
       "      <th>1067</th>\n",
       "      <td>2.031500e+06</td>\n",
       "      <td>63209.0</td>\n",
       "      <td>102.0</td>\n",
       "      <td>207.320041</td>\n",
       "    </tr>\n",
       "    <tr>\n",
       "      <th>1068</th>\n",
       "      <td>3.239125e+05</td>\n",
       "      <td>16061.0</td>\n",
       "      <td>88.0</td>\n",
       "      <td>633.600000</td>\n",
       "    </tr>\n",
       "    <tr>\n",
       "      <th>1069</th>\n",
       "      <td>4.626801e+05</td>\n",
       "      <td>79487.0</td>\n",
       "      <td>114.0</td>\n",
       "      <td>547.200000</td>\n",
       "    </tr>\n",
       "    <tr>\n",
       "      <th>1070</th>\n",
       "      <td>8.997040e+05</td>\n",
       "      <td>54230.0</td>\n",
       "      <td>112.0</td>\n",
       "      <td>537.600000</td>\n",
       "    </tr>\n",
       "  </tbody>\n",
       "</table>\n",
       "<p>1071 rows × 4 columns</p>\n",
       "</div>"
      ],
      "text/plain": [
       "      customer lifetime value   income  monthly premium auto  \\\n",
       "0                7.936903e+05  36234.0                1000.0   \n",
       "1                6.979536e+05  36234.0                  94.0   \n",
       "2                1.288743e+06  48767.0                 108.0   \n",
       "3                7.645862e+05  36234.0                 106.0   \n",
       "4                5.363077e+05  36357.0                  68.0   \n",
       "...                       ...      ...                   ...   \n",
       "1066             3.059550e+05  38644.0                  78.0   \n",
       "1067             2.031500e+06  63209.0                 102.0   \n",
       "1068             3.239125e+05  16061.0                  88.0   \n",
       "1069             4.626801e+05  79487.0                 114.0   \n",
       "1070             8.997040e+05  54230.0                 112.0   \n",
       "\n",
       "      total claim amount  \n",
       "0               2.704934  \n",
       "1            1131.464935  \n",
       "2             566.472247  \n",
       "3             529.881344  \n",
       "4              17.269323  \n",
       "...                  ...  \n",
       "1066          361.455219  \n",
       "1067          207.320041  \n",
       "1068          633.600000  \n",
       "1069          547.200000  \n",
       "1070          537.600000  \n",
       "\n",
       "[1071 rows x 4 columns]"
      ]
     },
     "execution_count": 47,
     "metadata": {},
     "output_type": "execute_result"
    }
   ],
   "source": [
    "data._get_numeric_data()"
   ]
  },
  {
   "cell_type": "code",
   "execution_count": 48,
   "id": "03849427",
   "metadata": {
    "scrolled": true
   },
   "outputs": [
    {
     "name": "stdout",
     "output_type": "stream",
     "text": [
      "Mean for column- customer lifetime value : 793690.2593445693\n",
      "Median for column- customer lifetime value : 588718.2\n",
      "Mode for column- customer lifetime value : 445811.34\n",
      "Standard deviation for column- customer lifetime value : 642575.7045585073 \n",
      "\n",
      "Mean for column- income : 47821.34827264239\n",
      "Median for column- income : 36234.0\n",
      "Mode for column- income : 36234.0\n",
      "Standard deviation for column- income : 22229.926527621585 \n",
      "\n",
      "Mean for column- monthly premium auto : 193.234360410831\n",
      "Median for column- monthly premium auto : 83.0\n",
      "Mode for column- monthly premium auto : 65.0\n",
      "Standard deviation for column- monthly premium auto : 1601.190368577621 \n",
      "\n",
      "Mean for column- total claim amount : 404.98690940896364\n",
      "Median for column- total claim amount : 354.729129\n",
      "Mode for column- total claim amount : 321.6\n",
      "Standard deviation for column- total claim amount : 293.0272599264041 \n",
      "\n"
     ]
    }
   ],
   "source": [
    "numeric_cols=data._get_numeric_data()\n",
    "def stat(x,i):\n",
    "    return print('Mean for column-',i,':',x.mean()), print('Median for column-',i,':',x.median()), print('Mode for column-',i,':',stats.mode(x)),print('Standard deviation for column-',i,':',x.std(),'\\n')\n",
    "\n",
    "for i in numeric_cols.columns:\n",
    "    stat(numeric_cols[i],i)"
   ]
  },
  {
   "cell_type": "code",
   "execution_count": 49,
   "id": "65b5ca44",
   "metadata": {},
   "outputs": [
    {
     "data": {
      "text/html": [
       "<div>\n",
       "<style scoped>\n",
       "    .dataframe tbody tr th:only-of-type {\n",
       "        vertical-align: middle;\n",
       "    }\n",
       "\n",
       "    .dataframe tbody tr th {\n",
       "        vertical-align: top;\n",
       "    }\n",
       "\n",
       "    .dataframe thead th {\n",
       "        text-align: right;\n",
       "    }\n",
       "</style>\n",
       "<table border=\"1\" class=\"dataframe\">\n",
       "  <thead>\n",
       "    <tr style=\"text-align: right;\">\n",
       "      <th></th>\n",
       "      <th>customer lifetime value</th>\n",
       "      <th>income</th>\n",
       "      <th>monthly premium auto</th>\n",
       "      <th>total claim amount</th>\n",
       "    </tr>\n",
       "  </thead>\n",
       "  <tbody>\n",
       "    <tr>\n",
       "      <th>count</th>\n",
       "      <td>1.071000e+03</td>\n",
       "      <td>1071.000000</td>\n",
       "      <td>1071.000000</td>\n",
       "      <td>1071.000000</td>\n",
       "    </tr>\n",
       "    <tr>\n",
       "      <th>mean</th>\n",
       "      <td>7.936903e+05</td>\n",
       "      <td>47821.348273</td>\n",
       "      <td>193.234360</td>\n",
       "      <td>404.986909</td>\n",
       "    </tr>\n",
       "    <tr>\n",
       "      <th>std</th>\n",
       "      <td>6.425757e+05</td>\n",
       "      <td>22229.926528</td>\n",
       "      <td>1601.190369</td>\n",
       "      <td>293.027260</td>\n",
       "    </tr>\n",
       "    <tr>\n",
       "      <th>min</th>\n",
       "      <td>2.004351e+05</td>\n",
       "      <td>10105.000000</td>\n",
       "      <td>61.000000</td>\n",
       "      <td>0.382107</td>\n",
       "    </tr>\n",
       "    <tr>\n",
       "      <th>25%</th>\n",
       "      <td>4.048535e+05</td>\n",
       "      <td>34585.000000</td>\n",
       "      <td>68.000000</td>\n",
       "      <td>202.157702</td>\n",
       "    </tr>\n",
       "    <tr>\n",
       "      <th>50%</th>\n",
       "      <td>5.887182e+05</td>\n",
       "      <td>36234.000000</td>\n",
       "      <td>83.000000</td>\n",
       "      <td>354.729129</td>\n",
       "    </tr>\n",
       "    <tr>\n",
       "      <th>75%</th>\n",
       "      <td>8.945210e+05</td>\n",
       "      <td>64631.000000</td>\n",
       "      <td>109.500000</td>\n",
       "      <td>532.800000</td>\n",
       "    </tr>\n",
       "    <tr>\n",
       "      <th>max</th>\n",
       "      <td>5.816655e+06</td>\n",
       "      <td>99960.000000</td>\n",
       "      <td>35354.000000</td>\n",
       "      <td>2893.239678</td>\n",
       "    </tr>\n",
       "  </tbody>\n",
       "</table>\n",
       "</div>"
      ],
      "text/plain": [
       "       customer lifetime value        income  monthly premium auto  \\\n",
       "count             1.071000e+03   1071.000000           1071.000000   \n",
       "mean              7.936903e+05  47821.348273            193.234360   \n",
       "std               6.425757e+05  22229.926528           1601.190369   \n",
       "min               2.004351e+05  10105.000000             61.000000   \n",
       "25%               4.048535e+05  34585.000000             68.000000   \n",
       "50%               5.887182e+05  36234.000000             83.000000   \n",
       "75%               8.945210e+05  64631.000000            109.500000   \n",
       "max               5.816655e+06  99960.000000          35354.000000   \n",
       "\n",
       "       total claim amount  \n",
       "count         1071.000000  \n",
       "mean           404.986909  \n",
       "std            293.027260  \n",
       "min              0.382107  \n",
       "25%            202.157702  \n",
       "50%            354.729129  \n",
       "75%            532.800000  \n",
       "max           2893.239678  "
      ]
     },
     "execution_count": 49,
     "metadata": {},
     "output_type": "execute_result"
    }
   ],
   "source": [
    "numeric_cols.describe()"
   ]
  },
  {
   "cell_type": "code",
   "execution_count": null,
   "id": "8d1882cb",
   "metadata": {},
   "outputs": [],
   "source": []
  },
  {
   "cell_type": "markdown",
   "id": "4a703890-63db-4944-b7ab-95a4f8185120",
   "metadata": {},
   "source": [
    "## Challenge 2: analyzing the data"
   ]
  },
  {
   "cell_type": "code",
   "execution_count": null,
   "id": "659f1be6",
   "metadata": {},
   "outputs": [],
   "source": []
  },
  {
   "cell_type": "code",
   "execution_count": null,
   "id": "d3a5e742",
   "metadata": {},
   "outputs": [],
   "source": []
  },
  {
   "cell_type": "code",
   "execution_count": null,
   "id": "6a05ac7b",
   "metadata": {},
   "outputs": [],
   "source": []
  },
  {
   "cell_type": "markdown",
   "id": "0776a403-c56a-452f-ac33-5fd4fdb06fc7",
   "metadata": {},
   "source": [
    "### Exercise 1"
   ]
  },
  {
   "cell_type": "markdown",
   "id": "eedbc484-da4d-4f9c-9343-e1d44311a87e",
   "metadata": {},
   "source": [
    "The marketing team wants to know the top 5 less common customer locations. Create a pandas Series object that contains the customer locations and their frequencies, and then retrieve the top 5 less common locations in ascending order."
   ]
  },
  {
   "cell_type": "code",
   "execution_count": 50,
   "id": "2dca5073-4520-4f42-9390-4b92733284ed",
   "metadata": {},
   "outputs": [
    {
     "data": {
      "text/plain": [
       "California    331\n",
       "Oregon        320\n",
       "Arizona       211\n",
       "Washington    111\n",
       "Nevada         98\n",
       "Name: state, dtype: int64"
      ]
     },
     "execution_count": 50,
     "metadata": {},
     "output_type": "execute_result"
    }
   ],
   "source": [
    "# Your code here\n",
    "location_freq=data['state'].value_counts()\n",
    "location_freq"
   ]
  },
  {
   "cell_type": "code",
   "execution_count": 51,
   "id": "d9bdd295",
   "metadata": {},
   "outputs": [
    {
     "data": {
      "text/plain": [
       "Nevada         98\n",
       "Washington    111\n",
       "Arizona       211\n",
       "Oregon        320\n",
       "California    331\n",
       "Name: state, dtype: int64"
      ]
     },
     "execution_count": 51,
     "metadata": {},
     "output_type": "execute_result"
    }
   ],
   "source": [
    "locations=data['state'].value_counts().sort_values()\n",
    "locations\n",
    "# sorted_values=data['state'].sort_values()\n",
    "# sorted_values"
   ]
  },
  {
   "cell_type": "code",
   "execution_count": null,
   "id": "e63514ef",
   "metadata": {},
   "outputs": [],
   "source": []
  },
  {
   "cell_type": "markdown",
   "id": "e8bc33e9-20fa-4852-8a96-acba1c802dd3",
   "metadata": {},
   "source": [
    "### Exercise 2\n"
   ]
  },
  {
   "cell_type": "markdown",
   "id": "feb47063-8ebb-4fa0-af2f-17a5c4cb1655",
   "metadata": {},
   "source": [
    "Your goal is to identify customers with a high policy claim amount.\n",
    "\n",
    "Instructions:\n",
    "\n",
    "- Review again the statistics for total claim amount to gain an understanding of the data.\n",
    "- To identify potential areas for improving customer retention and profitability, we want to focus on customers with a high policy claim amount. Consider customers with a high policy claim amount to be those in the top 25% of the total claim amount. Create a pandas DataFrame object that contains information about customers with a policy claim amount greater than the 75th percentile.\n",
    "- Use DataFrame methods to calculate summary statistics about the high policy claim amount data. "
   ]
  },
  {
   "cell_type": "markdown",
   "id": "9117fa27-7104-4b3d-b788-c554c63cd0b9",
   "metadata": {},
   "source": [
    "*Note: When analyzing data, we often want to focus on certain groups of values to gain insights. Percentiles are a useful tool to help us define these groups. A percentile is a measure that tells us what percentage of values in a dataset are below a certain value. For example, the 75th percentile represents the value below which 75% of the data falls. Similarly, the 25th percentile represents the value below which 25% of the data falls. When we talk about the top 25%, we are referring to the values that fall above the 75th percentile, which represent the top quarter of the data. On the other hand, when we talk about the bottom 25%, we are referring to the values that fall below the 25th percentile, which represent the bottom quarter of the data. By focusing on these groups, we can identify patterns and trends that may be useful for making decisions and taking action.*\n",
    "\n",
    "*Hint: look for a method that gives you the percentile or quantile 0.75 and 0.25 for a Pandas Series.*"
   ]
  },
  {
   "cell_type": "markdown",
   "id": "4b323dc6-b7db-4d33-8e11-abf5e7ac93f5",
   "metadata": {},
   "source": [
    "*Hint 2: check `Boolean selection according to the values of a single column` in https://towardsdatascience.com/filtering-data-frames-in-pandas-b570b1f834b9*"
   ]
  },
  {
   "cell_type": "code",
   "execution_count": 52,
   "id": "87e7169f",
   "metadata": {},
   "outputs": [
    {
     "data": {
      "text/plain": [
       "count    1071.000000\n",
       "mean      404.986909\n",
       "std       293.027260\n",
       "min         0.382107\n",
       "25%       202.157702\n",
       "50%       354.729129\n",
       "75%       532.800000\n",
       "max      2893.239678\n",
       "Name: total claim amount, dtype: float64"
      ]
     },
     "execution_count": 52,
     "metadata": {},
     "output_type": "execute_result"
    }
   ],
   "source": [
    "data['total claim amount'].describe()"
   ]
  },
  {
   "cell_type": "code",
   "execution_count": 53,
   "id": "b731bca6-a760-4860-a27b-a33efa712ce0",
   "metadata": {},
   "outputs": [
    {
     "data": {
      "text/html": [
       "<div>\n",
       "<style scoped>\n",
       "    .dataframe tbody tr th:only-of-type {\n",
       "        vertical-align: middle;\n",
       "    }\n",
       "\n",
       "    .dataframe tbody tr th {\n",
       "        vertical-align: top;\n",
       "    }\n",
       "\n",
       "    .dataframe thead th {\n",
       "        text-align: right;\n",
       "    }\n",
       "</style>\n",
       "<table border=\"1\" class=\"dataframe\">\n",
       "  <thead>\n",
       "    <tr style=\"text-align: right;\">\n",
       "      <th></th>\n",
       "      <th>customer</th>\n",
       "      <th>state</th>\n",
       "      <th>gender</th>\n",
       "      <th>education</th>\n",
       "      <th>customer lifetime value</th>\n",
       "      <th>income</th>\n",
       "      <th>monthly premium auto</th>\n",
       "      <th>number of open complaints</th>\n",
       "      <th>policy type</th>\n",
       "      <th>vehicle class</th>\n",
       "      <th>total claim amount</th>\n",
       "    </tr>\n",
       "  </thead>\n",
       "  <tbody>\n",
       "    <tr>\n",
       "      <th>1</th>\n",
       "      <td>QZ44356</td>\n",
       "      <td>Arizona</td>\n",
       "      <td>Female</td>\n",
       "      <td>Bachelor</td>\n",
       "      <td>697953.59</td>\n",
       "      <td>36234.0</td>\n",
       "      <td>94.0</td>\n",
       "      <td>1/0/00</td>\n",
       "      <td>Personal Auto</td>\n",
       "      <td>Four-Door Car</td>\n",
       "      <td>1131.464935</td>\n",
       "    </tr>\n",
       "    <tr>\n",
       "      <th>2</th>\n",
       "      <td>AI49188</td>\n",
       "      <td>Nevada</td>\n",
       "      <td>Female</td>\n",
       "      <td>Bachelor</td>\n",
       "      <td>1288743.17</td>\n",
       "      <td>48767.0</td>\n",
       "      <td>108.0</td>\n",
       "      <td>1/0/00</td>\n",
       "      <td>Personal Auto</td>\n",
       "      <td>Two-Door Car</td>\n",
       "      <td>566.472247</td>\n",
       "    </tr>\n",
       "    <tr>\n",
       "      <th>17</th>\n",
       "      <td>OE15005</td>\n",
       "      <td>California</td>\n",
       "      <td>Male</td>\n",
       "      <td>College</td>\n",
       "      <td>394524.16</td>\n",
       "      <td>28855.0</td>\n",
       "      <td>101.0</td>\n",
       "      <td>1/0/00</td>\n",
       "      <td>Personal Auto</td>\n",
       "      <td>SUV</td>\n",
       "      <td>647.442031</td>\n",
       "    </tr>\n",
       "    <tr>\n",
       "      <th>23</th>\n",
       "      <td>TZ98966</td>\n",
       "      <td>Nevada</td>\n",
       "      <td>Male</td>\n",
       "      <td>Bachelor</td>\n",
       "      <td>245019.10</td>\n",
       "      <td>36234.0</td>\n",
       "      <td>73.0</td>\n",
       "      <td>1/3/00</td>\n",
       "      <td>Corporate Auto</td>\n",
       "      <td>Four-Door Car</td>\n",
       "      <td>554.376763</td>\n",
       "    </tr>\n",
       "    <tr>\n",
       "      <th>26</th>\n",
       "      <td>US89481</td>\n",
       "      <td>California</td>\n",
       "      <td>Male</td>\n",
       "      <td>Bachelor</td>\n",
       "      <td>394637.21</td>\n",
       "      <td>36234.0</td>\n",
       "      <td>111.0</td>\n",
       "      <td>1/0/00</td>\n",
       "      <td>Personal Auto</td>\n",
       "      <td>Four-Door Car</td>\n",
       "      <td>799.200000</td>\n",
       "    </tr>\n",
       "    <tr>\n",
       "      <th>...</th>\n",
       "      <td>...</td>\n",
       "      <td>...</td>\n",
       "      <td>...</td>\n",
       "      <td>...</td>\n",
       "      <td>...</td>\n",
       "      <td>...</td>\n",
       "      <td>...</td>\n",
       "      <td>...</td>\n",
       "      <td>...</td>\n",
       "      <td>...</td>\n",
       "      <td>...</td>\n",
       "    </tr>\n",
       "    <tr>\n",
       "      <th>1059</th>\n",
       "      <td>YG44474</td>\n",
       "      <td>Oregon</td>\n",
       "      <td>Male</td>\n",
       "      <td>College</td>\n",
       "      <td>1401472.13</td>\n",
       "      <td>54193.0</td>\n",
       "      <td>117.0</td>\n",
       "      <td>1/0/00</td>\n",
       "      <td>Corporate Auto</td>\n",
       "      <td>SUV</td>\n",
       "      <td>720.752945</td>\n",
       "    </tr>\n",
       "    <tr>\n",
       "      <th>1061</th>\n",
       "      <td>RY92647</td>\n",
       "      <td>California</td>\n",
       "      <td>Female</td>\n",
       "      <td>Bachelor</td>\n",
       "      <td>1050677.17</td>\n",
       "      <td>36234.0</td>\n",
       "      <td>92.0</td>\n",
       "      <td>1/0/00</td>\n",
       "      <td>Personal Auto</td>\n",
       "      <td>Four-Door Car</td>\n",
       "      <td>546.524896</td>\n",
       "    </tr>\n",
       "    <tr>\n",
       "      <th>1068</th>\n",
       "      <td>GS98873</td>\n",
       "      <td>Arizona</td>\n",
       "      <td>Female</td>\n",
       "      <td>Bachelor</td>\n",
       "      <td>323912.47</td>\n",
       "      <td>16061.0</td>\n",
       "      <td>88.0</td>\n",
       "      <td>1/0/00</td>\n",
       "      <td>Personal Auto</td>\n",
       "      <td>Four-Door Car</td>\n",
       "      <td>633.600000</td>\n",
       "    </tr>\n",
       "    <tr>\n",
       "      <th>1069</th>\n",
       "      <td>CW49887</td>\n",
       "      <td>California</td>\n",
       "      <td>Female</td>\n",
       "      <td>Master</td>\n",
       "      <td>462680.11</td>\n",
       "      <td>79487.0</td>\n",
       "      <td>114.0</td>\n",
       "      <td>1/0/00</td>\n",
       "      <td>Special Auto</td>\n",
       "      <td>SUV</td>\n",
       "      <td>547.200000</td>\n",
       "    </tr>\n",
       "    <tr>\n",
       "      <th>1070</th>\n",
       "      <td>MY31220</td>\n",
       "      <td>California</td>\n",
       "      <td>Female</td>\n",
       "      <td>College</td>\n",
       "      <td>899704.02</td>\n",
       "      <td>54230.0</td>\n",
       "      <td>112.0</td>\n",
       "      <td>1/0/00</td>\n",
       "      <td>Personal Auto</td>\n",
       "      <td>Two-Door Car</td>\n",
       "      <td>537.600000</td>\n",
       "    </tr>\n",
       "  </tbody>\n",
       "</table>\n",
       "<p>264 rows × 11 columns</p>\n",
       "</div>"
      ],
      "text/plain": [
       "     customer       state  gender education  customer lifetime value   income  \\\n",
       "1     QZ44356     Arizona  Female  Bachelor                697953.59  36234.0   \n",
       "2     AI49188      Nevada  Female  Bachelor               1288743.17  48767.0   \n",
       "17    OE15005  California    Male   College                394524.16  28855.0   \n",
       "23    TZ98966      Nevada    Male  Bachelor                245019.10  36234.0   \n",
       "26    US89481  California    Male  Bachelor                394637.21  36234.0   \n",
       "...       ...         ...     ...       ...                      ...      ...   \n",
       "1059  YG44474      Oregon    Male   College               1401472.13  54193.0   \n",
       "1061  RY92647  California  Female  Bachelor               1050677.17  36234.0   \n",
       "1068  GS98873     Arizona  Female  Bachelor                323912.47  16061.0   \n",
       "1069  CW49887  California  Female    Master                462680.11  79487.0   \n",
       "1070  MY31220  California  Female   College                899704.02  54230.0   \n",
       "\n",
       "      monthly premium auto number of open complaints     policy type  \\\n",
       "1                     94.0                    1/0/00   Personal Auto   \n",
       "2                    108.0                    1/0/00   Personal Auto   \n",
       "17                   101.0                    1/0/00   Personal Auto   \n",
       "23                    73.0                    1/3/00  Corporate Auto   \n",
       "26                   111.0                    1/0/00   Personal Auto   \n",
       "...                    ...                       ...             ...   \n",
       "1059                 117.0                    1/0/00  Corporate Auto   \n",
       "1061                  92.0                    1/0/00   Personal Auto   \n",
       "1068                  88.0                    1/0/00   Personal Auto   \n",
       "1069                 114.0                    1/0/00    Special Auto   \n",
       "1070                 112.0                    1/0/00   Personal Auto   \n",
       "\n",
       "      vehicle class  total claim amount  \n",
       "1     Four-Door Car         1131.464935  \n",
       "2      Two-Door Car          566.472247  \n",
       "17              SUV          647.442031  \n",
       "23    Four-Door Car          554.376763  \n",
       "26    Four-Door Car          799.200000  \n",
       "...             ...                 ...  \n",
       "1059            SUV          720.752945  \n",
       "1061  Four-Door Car          546.524896  \n",
       "1068  Four-Door Car          633.600000  \n",
       "1069            SUV          547.200000  \n",
       "1070   Two-Door Car          537.600000  \n",
       "\n",
       "[264 rows x 11 columns]"
      ]
     },
     "execution_count": 53,
     "metadata": {},
     "output_type": "execute_result"
    }
   ],
   "source": [
    "# Your code here\n",
    "high_policy_clients=data[data['total claim amount']>532.8]\n",
    "high_policy_clients"
   ]
  },
  {
   "cell_type": "code",
   "execution_count": 54,
   "id": "4bbf349b",
   "metadata": {},
   "outputs": [
    {
     "data": {
      "text/plain": [
       "count     264.000000\n",
       "mean      782.228263\n",
       "std       292.751640\n",
       "min       537.600000\n",
       "25%       606.521741\n",
       "50%       679.597985\n",
       "75%       851.400000\n",
       "max      2893.239678\n",
       "Name: total claim amount, dtype: float64"
      ]
     },
     "execution_count": 54,
     "metadata": {},
     "output_type": "execute_result"
    }
   ],
   "source": [
    "high_policy_clients['total claim amount'].describe()"
   ]
  },
  {
   "cell_type": "code",
   "execution_count": 55,
   "id": "b147a6fa",
   "metadata": {},
   "outputs": [
    {
     "data": {
      "text/plain": [
       "537.6"
      ]
     },
     "execution_count": 55,
     "metadata": {},
     "output_type": "execute_result"
    }
   ],
   "source": [
    "stats.mode(high_policy_clients['total claim amount'])"
   ]
  },
  {
   "cell_type": "markdown",
   "id": "0ce80f43-4afa-43c7-a78a-c917444da4e0",
   "metadata": {},
   "source": [
    "### Exercise 3\n",
    "\n",
    "The sales team wants to know the total number of policies sold for each type of policy. Create a pandas Series object that contains the policy types and their total number of policies sold, and then retrieve the policy type with the highest number of policies sold."
   ]
  },
  {
   "cell_type": "markdown",
   "id": "a9f13997-1555-4f98-aca6-970fda1d2c3f",
   "metadata": {},
   "source": [
    "*Hint:*\n",
    "- *Using value_counts() method simplifies this analysis.*\n",
    "- *Futhermore, there is a method that returns the index of the maximum value in a column or row.*\n"
   ]
  },
  {
   "cell_type": "code",
   "execution_count": 56,
   "id": "bcfad6c1-9af2-4b0b-9aa9-0dc5c17473c0",
   "metadata": {},
   "outputs": [
    {
     "data": {
      "text/plain": [
       "Personal Auto     780\n",
       "Corporate Auto    234\n",
       "Special Auto       57\n",
       "Name: policy type, dtype: int64"
      ]
     },
     "execution_count": 56,
     "metadata": {},
     "output_type": "execute_result"
    }
   ],
   "source": [
    "# Your code here\n",
    "policy_sold=data['policy type'].value_counts()\n",
    "policy_sold"
   ]
  },
  {
   "cell_type": "markdown",
   "id": "0b863fd3-bf91-4d5d-86eb-be29ed9f5b70",
   "metadata": {},
   "source": [
    "### Exercise 4\n",
    "\n",
    "The sales team wants to know if customers with Personal Auto have a income less than those with Corporate Auto. How does the average income compare between the two policy types?"
   ]
  },
  {
   "cell_type": "markdown",
   "id": "b1386d75-2810-4aa1-93e0-9485aa12d552",
   "metadata": {},
   "source": [
    "- Use *loc* to create two dataframes: one containing only Personal Auto policies and one containing only Corporate Auto policies.\n",
    "- Calculate the average income for each policy.\n",
    "- Print the results."
   ]
  },
  {
   "cell_type": "code",
   "execution_count": 57,
   "id": "127f7e9f",
   "metadata": {},
   "outputs": [
    {
     "data": {
      "text/plain": [
       "array(['Personal Auto', 'Corporate Auto', 'Special Auto'], dtype=object)"
      ]
     },
     "execution_count": 57,
     "metadata": {},
     "output_type": "execute_result"
    }
   ],
   "source": [
    "data['policy type'].unique()"
   ]
  },
  {
   "cell_type": "code",
   "execution_count": 58,
   "id": "0c0563cf-6f8b-463d-a321-651a972f82e5",
   "metadata": {},
   "outputs": [
    {
     "data": {
      "text/html": [
       "<div>\n",
       "<style scoped>\n",
       "    .dataframe tbody tr th:only-of-type {\n",
       "        vertical-align: middle;\n",
       "    }\n",
       "\n",
       "    .dataframe tbody tr th {\n",
       "        vertical-align: top;\n",
       "    }\n",
       "\n",
       "    .dataframe thead th {\n",
       "        text-align: right;\n",
       "    }\n",
       "</style>\n",
       "<table border=\"1\" class=\"dataframe\">\n",
       "  <thead>\n",
       "    <tr style=\"text-align: right;\">\n",
       "      <th></th>\n",
       "      <th>customer</th>\n",
       "      <th>state</th>\n",
       "      <th>gender</th>\n",
       "      <th>education</th>\n",
       "      <th>customer lifetime value</th>\n",
       "      <th>income</th>\n",
       "      <th>monthly premium auto</th>\n",
       "      <th>number of open complaints</th>\n",
       "      <th>policy type</th>\n",
       "      <th>vehicle class</th>\n",
       "      <th>total claim amount</th>\n",
       "    </tr>\n",
       "  </thead>\n",
       "  <tbody>\n",
       "    <tr>\n",
       "      <th>0</th>\n",
       "      <td>RB50392</td>\n",
       "      <td>Washington</td>\n",
       "      <td>Female</td>\n",
       "      <td>Master</td>\n",
       "      <td>7.936903e+05</td>\n",
       "      <td>36234.0</td>\n",
       "      <td>1000.0</td>\n",
       "      <td>1/0/00</td>\n",
       "      <td>Personal Auto</td>\n",
       "      <td>Four-Door Car</td>\n",
       "      <td>2.704934</td>\n",
       "    </tr>\n",
       "    <tr>\n",
       "      <th>1</th>\n",
       "      <td>QZ44356</td>\n",
       "      <td>Arizona</td>\n",
       "      <td>Female</td>\n",
       "      <td>Bachelor</td>\n",
       "      <td>6.979536e+05</td>\n",
       "      <td>36234.0</td>\n",
       "      <td>94.0</td>\n",
       "      <td>1/0/00</td>\n",
       "      <td>Personal Auto</td>\n",
       "      <td>Four-Door Car</td>\n",
       "      <td>1131.464935</td>\n",
       "    </tr>\n",
       "    <tr>\n",
       "      <th>2</th>\n",
       "      <td>AI49188</td>\n",
       "      <td>Nevada</td>\n",
       "      <td>Female</td>\n",
       "      <td>Bachelor</td>\n",
       "      <td>1.288743e+06</td>\n",
       "      <td>48767.0</td>\n",
       "      <td>108.0</td>\n",
       "      <td>1/0/00</td>\n",
       "      <td>Personal Auto</td>\n",
       "      <td>Two-Door Car</td>\n",
       "      <td>566.472247</td>\n",
       "    </tr>\n",
       "    <tr>\n",
       "      <th>4</th>\n",
       "      <td>GA49547</td>\n",
       "      <td>Washington</td>\n",
       "      <td>Male</td>\n",
       "      <td>High School or Below</td>\n",
       "      <td>5.363077e+05</td>\n",
       "      <td>36357.0</td>\n",
       "      <td>68.0</td>\n",
       "      <td>1/0/00</td>\n",
       "      <td>Personal Auto</td>\n",
       "      <td>Four-Door Car</td>\n",
       "      <td>17.269323</td>\n",
       "    </tr>\n",
       "    <tr>\n",
       "      <th>5</th>\n",
       "      <td>OC83172</td>\n",
       "      <td>Oregon</td>\n",
       "      <td>Female</td>\n",
       "      <td>Bachelor</td>\n",
       "      <td>8.256298e+05</td>\n",
       "      <td>62902.0</td>\n",
       "      <td>69.0</td>\n",
       "      <td>1/0/00</td>\n",
       "      <td>Personal Auto</td>\n",
       "      <td>Two-Door Car</td>\n",
       "      <td>159.383042</td>\n",
       "    </tr>\n",
       "  </tbody>\n",
       "</table>\n",
       "</div>"
      ],
      "text/plain": [
       "  customer       state  gender             education  customer lifetime value  \\\n",
       "0  RB50392  Washington  Female                Master             7.936903e+05   \n",
       "1  QZ44356     Arizona  Female              Bachelor             6.979536e+05   \n",
       "2  AI49188      Nevada  Female              Bachelor             1.288743e+06   \n",
       "4  GA49547  Washington    Male  High School or Below             5.363077e+05   \n",
       "5  OC83172      Oregon  Female              Bachelor             8.256298e+05   \n",
       "\n",
       "    income  monthly premium auto number of open complaints    policy type  \\\n",
       "0  36234.0                1000.0                    1/0/00  Personal Auto   \n",
       "1  36234.0                  94.0                    1/0/00  Personal Auto   \n",
       "2  48767.0                 108.0                    1/0/00  Personal Auto   \n",
       "4  36357.0                  68.0                    1/0/00  Personal Auto   \n",
       "5  62902.0                  69.0                    1/0/00  Personal Auto   \n",
       "\n",
       "   vehicle class  total claim amount  \n",
       "0  Four-Door Car            2.704934  \n",
       "1  Four-Door Car         1131.464935  \n",
       "2   Two-Door Car          566.472247  \n",
       "4  Four-Door Car           17.269323  \n",
       "5   Two-Door Car          159.383042  "
      ]
     },
     "execution_count": 58,
     "metadata": {},
     "output_type": "execute_result"
    }
   ],
   "source": [
    "# Your code here\n",
    "personal= data[data['policy type']=='Personal Auto']\n",
    "corporate= data[data['policy type']=='Corporate Auto']\n",
    "personal.head()"
   ]
  },
  {
   "cell_type": "code",
   "execution_count": 59,
   "id": "ef815646",
   "metadata": {},
   "outputs": [
    {
     "data": {
      "text/plain": [
       "46960.47564102564"
      ]
     },
     "execution_count": 59,
     "metadata": {},
     "output_type": "execute_result"
    }
   ],
   "source": [
    "personal['income'].mean()"
   ]
  },
  {
   "cell_type": "code",
   "execution_count": 60,
   "id": "dfef23e5",
   "metadata": {},
   "outputs": [
    {
     "data": {
      "text/plain": [
       "49906.85042735043"
      ]
     },
     "execution_count": 60,
     "metadata": {},
     "output_type": "execute_result"
    }
   ],
   "source": [
    "corporate['income'].mean()"
   ]
  },
  {
   "cell_type": "code",
   "execution_count": 61,
   "id": "3718cfe1",
   "metadata": {},
   "outputs": [
    {
     "data": {
      "text/plain": [
       "2946.374786324792"
      ]
     },
     "execution_count": 61,
     "metadata": {},
     "output_type": "execute_result"
    }
   ],
   "source": [
    "difference=corporate['income'].mean()-personal['income'].mean()\n",
    "difference"
   ]
  },
  {
   "cell_type": "code",
   "execution_count": 62,
   "id": "d7ee1a89",
   "metadata": {},
   "outputs": [
    {
     "data": {
      "text/plain": [
       "count      780.000000\n",
       "mean     46960.475641\n",
       "std      21614.507459\n",
       "min      10105.000000\n",
       "25%      34536.250000\n",
       "50%      36234.000000\n",
       "75%      62774.000000\n",
       "max      99790.000000\n",
       "Name: income, dtype: float64"
      ]
     },
     "execution_count": 62,
     "metadata": {},
     "output_type": "execute_result"
    }
   ],
   "source": [
    "personal['income'].describe()"
   ]
  },
  {
   "cell_type": "code",
   "execution_count": 63,
   "id": "81574474",
   "metadata": {},
   "outputs": [
    {
     "data": {
      "text/plain": [
       "count      234.000000\n",
       "mean     49906.850427\n",
       "std      23119.086232\n",
       "min      10312.000000\n",
       "25%      36234.000000\n",
       "50%      39155.500000\n",
       "75%      69843.000000\n",
       "max      99960.000000\n",
       "Name: income, dtype: float64"
      ]
     },
     "execution_count": 63,
     "metadata": {},
     "output_type": "execute_result"
    }
   ],
   "source": [
    "corporate['income'].describe()"
   ]
  },
  {
   "cell_type": "code",
   "execution_count": null,
   "id": "51746446",
   "metadata": {},
   "outputs": [],
   "source": []
  }
 ],
 "metadata": {
  "kernelspec": {
   "display_name": "Python 3 (ipykernel)",
   "language": "python",
   "name": "python3"
  },
  "language_info": {
   "codemirror_mode": {
    "name": "ipython",
    "version": 3
   },
   "file_extension": ".py",
   "mimetype": "text/x-python",
   "name": "python",
   "nbconvert_exporter": "python",
   "pygments_lexer": "ipython3",
   "version": "3.11.3"
  }
 },
 "nbformat": 4,
 "nbformat_minor": 5
}
